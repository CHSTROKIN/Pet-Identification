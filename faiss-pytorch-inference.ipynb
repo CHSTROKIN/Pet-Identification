{
 "cells": [
  {
   "cell_type": "markdown",
   "id": "dc9cef9e",
   "metadata": {
    "papermill": {
     "duration": 0.068675,
     "end_time": "2022-02-23T05:08:38.402768",
     "exception": false,
     "start_time": "2022-02-23T05:08:38.334093",
     "status": "completed"
    },
    "tags": []
   },
   "source": [
    "<br>\n",
    "<h2 style = \"font-size:60px; font-family:Garamond ; font-weight : normal; background-color: #f6f5f5 ; color : #fe346e; text-align: center; border-radius: 100px 100px;\">FAISS Pytorch Inference</h2>\n",
    "<br>"
   ]
  },
  {
   "cell_type": "markdown",
   "id": "fda36396",
   "metadata": {
    "papermill": {
     "duration": 0.041705,
     "end_time": "2022-02-23T05:08:38.502150",
     "exception": false,
     "start_time": "2022-02-23T05:08:38.460445",
     "status": "completed"
    },
    "tags": []
   },
   "source": [
    "<h3>📌 Inference Pipeline is taken from this Notebook:</h3> <h4><a href='https://www.kaggle.com/ks2019/happywhale-arcface-baseline-tpu'>https://www.kaggle.com/ks2019/happywhale-arcface-baseline-tpu</a></h4>\n",
    "\n",
    "<h3>📌 Train Notebook:</h3> <h4><a href='https://www.kaggle.com/debarshichanda/pytorch-arcface-gem-pooling-starter'>https://www.kaggle.com/debarshichanda/pytorch-arcface-gem-pooling-starter</a></h4>"
   ]
  },
  {
   "cell_type": "markdown",
   "id": "5472b6fd",
   "metadata": {
    "papermill": {
     "duration": 0.04218,
     "end_time": "2022-02-23T05:08:38.586052",
     "exception": false,
     "start_time": "2022-02-23T05:08:38.543872",
     "status": "completed"
    },
    "tags": []
   },
   "source": [
    "# <span><h1 style = \"font-family: garamond; font-size: 40px; font-style: normal; letter-spcaing: 3px; background-color: #f6f5f5; color :#fe346e; border-radius: 100px 100px; text-align:center\">Install Required Libraries</h1></span>"
   ]
  },
  {
   "cell_type": "code",
   "execution_count": 3,
   "id": "5de143fa",
   "metadata": {
    "_kg_hide-output": true,
    "execution": {
     "iopub.execute_input": "2022-02-23T05:08:38.716265Z",
     "iopub.status.busy": "2022-02-23T05:08:38.715470Z",
     "iopub.status.idle": "2022-02-23T05:09:01.568638Z",
     "shell.execute_reply": "2022-02-23T05:09:01.567684Z",
     "shell.execute_reply.started": "2022-02-23T04:59:32.021907Z"
    },
    "papermill": {
     "duration": 22.940785,
     "end_time": "2022-02-23T05:09:01.568874",
     "exception": false,
     "start_time": "2022-02-23T05:08:38.628089",
     "status": "completed"
    },
    "tags": []
   },
   "outputs": [
    {
     "name": "stdout",
     "output_type": "stream",
     "text": [
      "Requirement already satisfied: timm in c:\\users\\18446\\anaconda3\\envs\\pet\\lib\\site-packages (1.0.3)\n",
      "Requirement already satisfied: torch in c:\\users\\18446\\anaconda3\\envs\\pet\\lib\\site-packages (from timm) (2.3.0)\n",
      "Requirement already satisfied: torchvision in c:\\users\\18446\\anaconda3\\envs\\pet\\lib\\site-packages (from timm) (0.18.0)\n",
      "Requirement already satisfied: pyyaml in c:\\users\\18446\\anaconda3\\envs\\pet\\lib\\site-packages (from timm) (6.0.1)\n",
      "Requirement already satisfied: huggingface_hub in c:\\users\\18446\\anaconda3\\envs\\pet\\lib\\site-packages (from timm) (0.23.1)\n",
      "Requirement already satisfied: safetensors in c:\\users\\18446\\anaconda3\\envs\\pet\\lib\\site-packages (from timm) (0.4.3)\n",
      "Requirement already satisfied: filelock in c:\\users\\18446\\anaconda3\\envs\\pet\\lib\\site-packages (from huggingface_hub->timm) (3.13.1)\n",
      "Requirement already satisfied: fsspec>=2023.5.0 in c:\\users\\18446\\anaconda3\\envs\\pet\\lib\\site-packages (from huggingface_hub->timm) (2024.5.0)\n",
      "Requirement already satisfied: packaging>=20.9 in c:\\users\\18446\\anaconda3\\envs\\pet\\lib\\site-packages (from huggingface_hub->timm) (24.0)\n",
      "Requirement already satisfied: requests in c:\\users\\18446\\anaconda3\\envs\\pet\\lib\\site-packages (from huggingface_hub->timm) (2.31.0)\n",
      "Requirement already satisfied: tqdm>=4.42.1 in c:\\users\\18446\\anaconda3\\envs\\pet\\lib\\site-packages (from huggingface_hub->timm) (4.66.4)\n",
      "Requirement already satisfied: typing-extensions>=3.7.4.3 in c:\\users\\18446\\anaconda3\\envs\\pet\\lib\\site-packages (from huggingface_hub->timm) (4.11.0)\n",
      "Requirement already satisfied: sympy in c:\\users\\18446\\anaconda3\\envs\\pet\\lib\\site-packages (from torch->timm) (1.12)\n",
      "Requirement already satisfied: networkx in c:\\users\\18446\\anaconda3\\envs\\pet\\lib\\site-packages (from torch->timm) (3.1)\n",
      "Requirement already satisfied: jinja2 in c:\\users\\18446\\anaconda3\\envs\\pet\\lib\\site-packages (from torch->timm) (3.1.3)\n",
      "Requirement already satisfied: mkl<=2021.4.0,>=2021.1.1 in c:\\users\\18446\\anaconda3\\envs\\pet\\lib\\site-packages (from torch->timm) (2021.4.0)\n",
      "Requirement already satisfied: numpy in c:\\users\\18446\\anaconda3\\envs\\pet\\lib\\site-packages (from torchvision->timm) (1.26.4)\n",
      "Requirement already satisfied: pillow!=8.3.*,>=5.3.0 in c:\\users\\18446\\anaconda3\\envs\\pet\\lib\\site-packages (from torchvision->timm) (10.3.0)\n",
      "Requirement already satisfied: intel-openmp==2021.* in c:\\users\\18446\\anaconda3\\envs\\pet\\lib\\site-packages (from mkl<=2021.4.0,>=2021.1.1->torch->timm) (2021.4.0)\n",
      "Requirement already satisfied: tbb==2021.* in c:\\users\\18446\\anaconda3\\envs\\pet\\lib\\site-packages (from mkl<=2021.4.0,>=2021.1.1->torch->timm) (2021.12.0)\n",
      "Requirement already satisfied: colorama in c:\\users\\18446\\anaconda3\\envs\\pet\\lib\\site-packages (from tqdm>=4.42.1->huggingface_hub->timm) (0.4.6)\n",
      "Requirement already satisfied: MarkupSafe>=2.0 in c:\\users\\18446\\anaconda3\\envs\\pet\\lib\\site-packages (from jinja2->torch->timm) (2.1.3)\n",
      "Requirement already satisfied: charset-normalizer<4,>=2 in c:\\users\\18446\\anaconda3\\envs\\pet\\lib\\site-packages (from requests->huggingface_hub->timm) (2.0.4)\n",
      "Requirement already satisfied: idna<4,>=2.5 in c:\\users\\18446\\anaconda3\\envs\\pet\\lib\\site-packages (from requests->huggingface_hub->timm) (3.7)\n",
      "Requirement already satisfied: urllib3<3,>=1.21.1 in c:\\users\\18446\\anaconda3\\envs\\pet\\lib\\site-packages (from requests->huggingface_hub->timm) (2.2.1)\n",
      "Requirement already satisfied: certifi>=2017.4.17 in c:\\users\\18446\\anaconda3\\envs\\pet\\lib\\site-packages (from requests->huggingface_hub->timm) (2024.2.2)\n",
      "Requirement already satisfied: mpmath>=0.19 in c:\\users\\18446\\anaconda3\\envs\\pet\\lib\\site-packages (from sympy->torch->timm) (1.3.0)\n"
     ]
    },
    {
     "name": "stderr",
     "output_type": "stream",
     "text": [
      "WARNING: Skipping C:\\Users\\18446\\anaconda3\\envs\\pet\\Lib\\site-packages\\ipykernel-6.29.3.dist-info due to invalid metadata entry 'name'\n",
      "WARNING: Skipping C:\\Users\\18446\\anaconda3\\envs\\pet\\Lib\\site-packages\\ipykernel-6.29.3.dist-info due to invalid metadata entry 'name'\n",
      "WARNING: Skipping C:\\Users\\18446\\anaconda3\\envs\\pet\\Lib\\site-packages\\ipykernel-6.29.3.dist-info due to invalid metadata entry 'name'\n",
      "WARNING: Skipping C:\\Users\\18446\\anaconda3\\envs\\pet\\Lib\\site-packages\\ipykernel-6.29.3.dist-info due to invalid metadata entry 'name'\n",
      "WARNING: Skipping C:\\Users\\18446\\anaconda3\\envs\\pet\\Lib\\site-packages\\ipykernel-6.29.3.dist-info due to invalid metadata entry 'name'\n",
      "WARNING: Skipping C:\\Users\\18446\\anaconda3\\envs\\pet\\Lib\\site-packages\\ipykernel-6.29.3.dist-info due to invalid metadata entry 'name'\n",
      "WARNING: Skipping C:\\Users\\18446\\anaconda3\\envs\\pet\\Lib\\site-packages\\ipykernel-6.29.3.dist-info due to invalid metadata entry 'name'\n",
      "WARNING: Skipping C:\\Users\\18446\\anaconda3\\envs\\pet\\Lib\\site-packages\\ipykernel-6.29.3.dist-info due to invalid metadata entry 'name'\n",
      "ERROR: Could not find a version that satisfies the requirement faiss-gpu (from versions: none)\n",
      "ERROR: No matching distribution found for faiss-gpu\n",
      "WARNING: Skipping C:\\Users\\18446\\anaconda3\\envs\\pet\\Lib\\site-packages\\ipykernel-6.29.3.dist-info due to invalid metadata entry 'name'\n",
      "WARNING: Skipping C:\\Users\\18446\\anaconda3\\envs\\pet\\Lib\\site-packages\\ipykernel-6.29.3.dist-info due to invalid metadata entry 'name'\n",
      "WARNING: Skipping C:\\Users\\18446\\anaconda3\\envs\\pet\\Lib\\site-packages\\ipykernel-6.29.3.dist-info due to invalid metadata entry 'name'\n"
     ]
    }
   ],
   "source": [
    "!pip install timm\n",
    "!pip install faiss-cpu"
   ]
  },
  {
   "cell_type": "markdown",
   "id": "5095da69",
   "metadata": {
    "papermill": {
     "duration": 0.08048,
     "end_time": "2022-02-23T05:09:01.731975",
     "exception": false,
     "start_time": "2022-02-23T05:09:01.651495",
     "status": "completed"
    },
    "tags": []
   },
   "source": [
    "# <span><h1 style = \"font-family: garamond; font-size: 40px; font-style: normal; letter-spcaing: 3px; background-color: #f6f5f5; color :#fe346e; border-radius: 100px 100px; text-align:center\">Import Required Libraries 📚</h1></span>"
   ]
  },
  {
   "cell_type": "code",
   "execution_count": 3,
   "id": "f1102cd9",
   "metadata": {
    "execution": {
     "iopub.execute_input": "2022-02-23T05:09:01.906418Z",
     "iopub.status.busy": "2022-02-23T05:09:01.905463Z",
     "iopub.status.idle": "2022-02-23T05:09:06.476687Z",
     "shell.execute_reply": "2022-02-23T05:09:06.477439Z",
     "shell.execute_reply.started": "2022-02-23T04:59:51.916818Z"
    },
    "papermill": {
     "duration": 4.663889,
     "end_time": "2022-02-23T05:09:06.477648",
     "exception": false,
     "start_time": "2022-02-23T05:09:01.813759",
     "status": "completed"
    },
    "tags": []
   },
   "outputs": [],
   "source": [
    "import os\n",
    "import gc\n",
    "import cv2\n",
    "import math\n",
    "import copy\n",
    "import time\n",
    "import random\n",
    "\n",
    "# For data manipulation\n",
    "import numpy as np\n",
    "import pandas as pd\n",
    "\n",
    "# Pytorch Imports\n",
    "import torch\n",
    "import torch.nn as nn\n",
    "import torch.nn.functional as F\n",
    "from torch.utils.data import Dataset, DataLoader\n",
    "from torch.cuda import amp\n",
    "\n",
    "# Utils\n",
    "import joblib\n",
    "from tqdm import tqdm\n",
    "from collections import defaultdict\n",
    "\n",
    "# Sklearn Imports\n",
    "from sklearn.preprocessing import LabelEncoder, normalize\n",
    "from sklearn.model_selection import StratifiedKFold\n",
    "\n",
    "# For Image Models\n",
    "import timm\n",
    "\n",
    "# For Similarity Search\n",
    "import faiss\n",
    "\n",
    "# Albumentations for augmentations\n",
    "import albumentations as A\n",
    "from albumentations.pytorch import ToTensorV2\n",
    "\n",
    "# For colored terminal text\n",
    "from colorama import Fore, Back, Style\n",
    "b_ = Fore.BLUE\n",
    "y_ = Fore.YELLOW\n",
    "sr_ = Style.RESET_ALL\n",
    "\n",
    "import warnings\n",
    "warnings.filterwarnings(\"ignore\")\n",
    "\n",
    "# For descriptive error messages\n",
    "os.environ['CUDA_LAUNCH_BLOCKING'] = \"1\""
   ]
  },
  {
   "cell_type": "code",
   "execution_count": null,
   "id": "1e6ea5d9",
   "metadata": {},
   "outputs": [],
   "source": []
  },
  {
   "cell_type": "markdown",
   "id": "6c7ef091",
   "metadata": {
    "papermill": {
     "duration": 0.080768,
     "end_time": "2022-02-23T05:09:06.638876",
     "exception": false,
     "start_time": "2022-02-23T05:09:06.558108",
     "status": "completed"
    },
    "tags": []
   },
   "source": [
    "# <span><h1 style = \"font-family: garamond; font-size: 40px; font-style: normal; letter-spcaing: 3px; background-color: #f6f5f5; color :#fe346e; border-radius: 100px 100px; text-align:center\">Configuration ⚙️</h1></span>"
   ]
  },
  {
   "cell_type": "code",
   "execution_count": 5,
   "id": "006ada57",
   "metadata": {
    "execution": {
     "iopub.execute_input": "2022-02-23T05:09:06.853204Z",
     "iopub.status.busy": "2022-02-23T05:09:06.852356Z",
     "iopub.status.idle": "2022-02-23T05:09:06.855417Z",
     "shell.execute_reply": "2022-02-23T05:09:06.855011Z",
     "shell.execute_reply.started": "2022-02-23T04:59:56.735856Z"
    },
    "papermill": {
     "duration": 0.135189,
     "end_time": "2022-02-23T05:09:06.855536",
     "exception": false,
     "start_time": "2022-02-23T05:09:06.720347",
     "status": "completed"
    },
    "tags": []
   },
   "outputs": [],
   "source": [
    "CONFIG = {\"seed\": 2024,\n",
    "          \"img_size\": 128,\n",
    "          \"model_name\": \"tf_efficientnet_b0_ns\",\n",
    "          \"num_classes\": 10222,\n",
    "          \"embedding_size\": 512,\n",
    "          \"train_batch_size\": 2,\n",
    "          \"valid_batch_size\": 2,\n",
    "          \"n_fold\": 5,\n",
    "          \"device\": torch.device(\"cuda:0\" if torch.cuda.is_available() else \"cpu\"),\n",
    "          # ArcFace Hyperparameters\n",
    "          \"s\": 30.0, \n",
    "          \"m\": 0.30,\n",
    "          \"ls_eps\": 0.0,\n",
    "          \"easy_margin\": False\n",
    "          }"
   ]
  },
  {
   "cell_type": "markdown",
   "id": "f33ea3a7",
   "metadata": {
    "papermill": {
     "duration": 0.083607,
     "end_time": "2022-02-23T05:09:07.021897",
     "exception": false,
     "start_time": "2022-02-23T05:09:06.938290",
     "status": "completed"
    },
    "tags": []
   },
   "source": [
    "# <span><h1 style = \"font-family: garamond; font-size: 40px; font-style: normal; letter-spcaing: 3px; background-color: #f6f5f5; color :#fe346e; border-radius: 100px 100px; text-align:center\">Set Seed for Reproducibility</h1></span>"
   ]
  },
  {
   "cell_type": "code",
   "execution_count": 6,
   "id": "f7cfc6f7",
   "metadata": {
    "execution": {
     "iopub.execute_input": "2022-02-23T05:09:07.190017Z",
     "iopub.status.busy": "2022-02-23T05:09:07.189339Z",
     "iopub.status.idle": "2022-02-23T05:09:07.197816Z",
     "shell.execute_reply": "2022-02-23T05:09:07.197367Z",
     "shell.execute_reply.started": "2022-02-23T04:59:56.790906Z"
    },
    "papermill": {
     "duration": 0.095411,
     "end_time": "2022-02-23T05:09:07.197943",
     "exception": false,
     "start_time": "2022-02-23T05:09:07.102532",
     "status": "completed"
    },
    "tags": []
   },
   "outputs": [],
   "source": [
    "def set_seed(seed=42):\n",
    "    '''Sets the seed of the entire notebook so results are the same every time we run.\n",
    "    This is for REPRODUCIBILITY.'''\n",
    "    np.random.seed(seed)\n",
    "    torch.manual_seed(seed)\n",
    "    torch.cuda.manual_seed(seed)\n",
    "    # When running on the CuDNN backend, two further options must be set\n",
    "    torch.backends.cudnn.deterministic = True\n",
    "    torch.backends.cudnn.benchmark = False\n",
    "    # Set a fixed value for the hash seed\n",
    "    os.environ['PYTHONHASHSEED'] = str(seed)\n",
    "    \n",
    "set_seed(CONFIG['seed'])"
   ]
  },
  {
   "cell_type": "code",
   "execution_count": 7,
   "id": "77e57e0e",
   "metadata": {
    "execution": {
     "iopub.execute_input": "2022-02-23T05:09:07.364310Z",
     "iopub.status.busy": "2022-02-23T05:09:07.363433Z",
     "iopub.status.idle": "2022-02-23T05:09:07.365261Z",
     "shell.execute_reply": "2022-02-23T05:09:07.365693Z",
     "shell.execute_reply.started": "2022-02-23T04:59:56.806296Z"
    },
    "papermill": {
     "duration": 0.087356,
     "end_time": "2022-02-23T05:09:07.365844",
     "exception": false,
     "start_time": "2022-02-23T05:09:07.278488",
     "status": "completed"
    },
    "tags": []
   },
   "outputs": [],
   "source": [
    "ROOT_DIR = 'D:\\\\pet identification\\\\'\n",
    "TRAIN_DIR = 'D:\\\\pet identification\\\\train'\n",
    "TEST_DIR = 'D:\\\\pet identification\\\\test'"
   ]
  },
  {
   "cell_type": "code",
   "execution_count": 8,
   "id": "c97e10a3",
   "metadata": {
    "execution": {
     "iopub.execute_input": "2022-02-23T05:09:07.531879Z",
     "iopub.status.busy": "2022-02-23T05:09:07.530997Z",
     "iopub.status.idle": "2022-02-23T05:09:07.532783Z",
     "shell.execute_reply": "2022-02-23T05:09:07.533273Z",
     "shell.execute_reply.started": "2022-02-23T04:59:56.813258Z"
    },
    "papermill": {
     "duration": 0.086377,
     "end_time": "2022-02-23T05:09:07.533409",
     "exception": false,
     "start_time": "2022-02-23T05:09:07.447032",
     "status": "completed"
    },
    "tags": []
   },
   "outputs": [],
   "source": [
    "def get_train_file_path(id):\n",
    "    return f\"{TRAIN_DIR}\\\\{id}.jpg\""
   ]
  },
  {
   "cell_type": "code",
   "execution_count": 9,
   "id": "3636c003",
   "metadata": {},
   "outputs": [
    {
     "name": "stdout",
     "output_type": "stream",
     "text": [
      "                                 id             breed\n",
      "0  000bec180eb18c7604dcecc8fe0dba07       boston_bull\n",
      "1  001513dfcb2ffafc82cccf4d8bbaba97             dingo\n",
      "2  001cdf01b096e06d78e9e5112d419397          pekinese\n",
      "3  00214f311d5d2247d5dfe4fe24b2303d          bluetick\n",
      "4  0021f9ceb3235effd7fcde7f7538ed62  golden_retriever\n",
      "10222\n"
     ]
    }
   ],
   "source": [
    "train_csv = pd.read_csv(f'{ROOT_DIR}/labels.csv')\n",
    "print(train_csv.head())\n",
    "print(len(train_csv))\n"
   ]
  },
  {
   "cell_type": "markdown",
   "id": "86ed9778",
   "metadata": {
    "papermill": {
     "duration": 0.080002,
     "end_time": "2022-02-23T05:09:07.693902",
     "exception": false,
     "start_time": "2022-02-23T05:09:07.613900",
     "status": "completed"
    },
    "tags": []
   },
   "source": [
    "# <h1 style = \"font-family: garamond; font-size: 40px; font-style: normal; letter-spcaing: 3px; background-color: #f6f5f5; color :#fe346e; border-radius: 100px 100px; text-align:center\">Read the Data 📖</h1>"
   ]
  },
  {
   "cell_type": "code",
   "execution_count": 10,
   "id": "5cce397f",
   "metadata": {
    "execution": {
     "iopub.execute_input": "2022-02-23T05:09:07.859225Z",
     "iopub.status.busy": "2022-02-23T05:09:07.858351Z",
     "iopub.status.idle": "2022-02-23T05:09:07.985429Z",
     "shell.execute_reply": "2022-02-23T05:09:07.985895Z",
     "shell.execute_reply.started": "2022-02-23T04:59:56.824790Z"
    },
    "papermill": {
     "duration": 0.212231,
     "end_time": "2022-02-23T05:09:07.986051",
     "exception": false,
     "start_time": "2022-02-23T05:09:07.773820",
     "status": "completed"
    },
    "tags": []
   },
   "outputs": [
    {
     "data": {
      "text/html": [
       "<div>\n",
       "<style scoped>\n",
       "    .dataframe tbody tr th:only-of-type {\n",
       "        vertical-align: middle;\n",
       "    }\n",
       "\n",
       "    .dataframe tbody tr th {\n",
       "        vertical-align: top;\n",
       "    }\n",
       "\n",
       "    .dataframe thead th {\n",
       "        text-align: right;\n",
       "    }\n",
       "</style>\n",
       "<table border=\"1\" class=\"dataframe\">\n",
       "  <thead>\n",
       "    <tr style=\"text-align: right;\">\n",
       "      <th></th>\n",
       "      <th>id</th>\n",
       "      <th>breed</th>\n",
       "      <th>file_path</th>\n",
       "    </tr>\n",
       "  </thead>\n",
       "  <tbody>\n",
       "    <tr>\n",
       "      <th>0</th>\n",
       "      <td>000bec180eb18c7604dcecc8fe0dba07</td>\n",
       "      <td>boston_bull</td>\n",
       "      <td>D:\\pet identification\\train\\000bec180eb18c7604...</td>\n",
       "    </tr>\n",
       "    <tr>\n",
       "      <th>1</th>\n",
       "      <td>001513dfcb2ffafc82cccf4d8bbaba97</td>\n",
       "      <td>dingo</td>\n",
       "      <td>D:\\pet identification\\train\\001513dfcb2ffafc82...</td>\n",
       "    </tr>\n",
       "    <tr>\n",
       "      <th>2</th>\n",
       "      <td>001cdf01b096e06d78e9e5112d419397</td>\n",
       "      <td>pekinese</td>\n",
       "      <td>D:\\pet identification\\train\\001cdf01b096e06d78...</td>\n",
       "    </tr>\n",
       "    <tr>\n",
       "      <th>3</th>\n",
       "      <td>00214f311d5d2247d5dfe4fe24b2303d</td>\n",
       "      <td>bluetick</td>\n",
       "      <td>D:\\pet identification\\train\\00214f311d5d2247d5...</td>\n",
       "    </tr>\n",
       "    <tr>\n",
       "      <th>4</th>\n",
       "      <td>0021f9ceb3235effd7fcde7f7538ed62</td>\n",
       "      <td>golden_retriever</td>\n",
       "      <td>D:\\pet identification\\train\\0021f9ceb3235effd7...</td>\n",
       "    </tr>\n",
       "  </tbody>\n",
       "</table>\n",
       "</div>"
      ],
      "text/plain": [
       "                                 id             breed  \\\n",
       "0  000bec180eb18c7604dcecc8fe0dba07       boston_bull   \n",
       "1  001513dfcb2ffafc82cccf4d8bbaba97             dingo   \n",
       "2  001cdf01b096e06d78e9e5112d419397          pekinese   \n",
       "3  00214f311d5d2247d5dfe4fe24b2303d          bluetick   \n",
       "4  0021f9ceb3235effd7fcde7f7538ed62  golden_retriever   \n",
       "\n",
       "                                           file_path  \n",
       "0  D:\\pet identification\\train\\000bec180eb18c7604...  \n",
       "1  D:\\pet identification\\train\\001513dfcb2ffafc82...  \n",
       "2  D:\\pet identification\\train\\001cdf01b096e06d78...  \n",
       "3  D:\\pet identification\\train\\00214f311d5d2247d5...  \n",
       "4  D:\\pet identification\\train\\0021f9ceb3235effd7...  "
      ]
     },
     "execution_count": 10,
     "metadata": {},
     "output_type": "execute_result"
    }
   ],
   "source": [
    "df = pd.read_csv(f\"{ROOT_DIR}/labels.csv\")\n",
    "df['file_path'] = df['id'].apply(get_train_file_path)\n",
    "df.head()"
   ]
  },
  {
   "cell_type": "code",
   "execution_count": 11,
   "id": "f583ffdb",
   "metadata": {
    "execution": {
     "iopub.execute_input": "2022-02-23T05:09:08.165948Z",
     "iopub.status.busy": "2022-02-23T05:09:08.165175Z",
     "iopub.status.idle": "2022-02-23T05:09:08.201980Z",
     "shell.execute_reply": "2022-02-23T05:09:08.201445Z",
     "shell.execute_reply.started": "2022-02-23T04:59:56.939790Z"
    },
    "papermill": {
     "duration": 0.135918,
     "end_time": "2022-02-23T05:09:08.202120",
     "exception": false,
     "start_time": "2022-02-23T05:09:08.066202",
     "status": "completed"
    },
    "tags": []
   },
   "outputs": [
    {
     "data": {
      "text/html": [
       "<div>\n",
       "<style scoped>\n",
       "    .dataframe tbody tr th:only-of-type {\n",
       "        vertical-align: middle;\n",
       "    }\n",
       "\n",
       "    .dataframe tbody tr th {\n",
       "        vertical-align: top;\n",
       "    }\n",
       "\n",
       "    .dataframe thead th {\n",
       "        text-align: right;\n",
       "    }\n",
       "</style>\n",
       "<table border=\"1\" class=\"dataframe\">\n",
       "  <thead>\n",
       "    <tr style=\"text-align: right;\">\n",
       "      <th></th>\n",
       "      <th>id</th>\n",
       "      <th>breed</th>\n",
       "      <th>file_path</th>\n",
       "      <th>individual_id</th>\n",
       "    </tr>\n",
       "  </thead>\n",
       "  <tbody>\n",
       "    <tr>\n",
       "      <th>0</th>\n",
       "      <td>000bec180eb18c7604dcecc8fe0dba07</td>\n",
       "      <td>boston_bull</td>\n",
       "      <td>D:\\pet identification\\train\\000bec180eb18c7604...</td>\n",
       "      <td>0</td>\n",
       "    </tr>\n",
       "    <tr>\n",
       "      <th>1</th>\n",
       "      <td>001513dfcb2ffafc82cccf4d8bbaba97</td>\n",
       "      <td>dingo</td>\n",
       "      <td>D:\\pet identification\\train\\001513dfcb2ffafc82...</td>\n",
       "      <td>1</td>\n",
       "    </tr>\n",
       "    <tr>\n",
       "      <th>2</th>\n",
       "      <td>001cdf01b096e06d78e9e5112d419397</td>\n",
       "      <td>pekinese</td>\n",
       "      <td>D:\\pet identification\\train\\001cdf01b096e06d78...</td>\n",
       "      <td>2</td>\n",
       "    </tr>\n",
       "    <tr>\n",
       "      <th>3</th>\n",
       "      <td>00214f311d5d2247d5dfe4fe24b2303d</td>\n",
       "      <td>bluetick</td>\n",
       "      <td>D:\\pet identification\\train\\00214f311d5d2247d5...</td>\n",
       "      <td>3</td>\n",
       "    </tr>\n",
       "    <tr>\n",
       "      <th>4</th>\n",
       "      <td>0021f9ceb3235effd7fcde7f7538ed62</td>\n",
       "      <td>golden_retriever</td>\n",
       "      <td>D:\\pet identification\\train\\0021f9ceb3235effd7...</td>\n",
       "      <td>4</td>\n",
       "    </tr>\n",
       "  </tbody>\n",
       "</table>\n",
       "</div>"
      ],
      "text/plain": [
       "                                 id             breed  \\\n",
       "0  000bec180eb18c7604dcecc8fe0dba07       boston_bull   \n",
       "1  001513dfcb2ffafc82cccf4d8bbaba97             dingo   \n",
       "2  001cdf01b096e06d78e9e5112d419397          pekinese   \n",
       "3  00214f311d5d2247d5dfe4fe24b2303d          bluetick   \n",
       "4  0021f9ceb3235effd7fcde7f7538ed62  golden_retriever   \n",
       "\n",
       "                                           file_path  individual_id  \n",
       "0  D:\\pet identification\\train\\000bec180eb18c7604...              0  \n",
       "1  D:\\pet identification\\train\\001513dfcb2ffafc82...              1  \n",
       "2  D:\\pet identification\\train\\001cdf01b096e06d78...              2  \n",
       "3  D:\\pet identification\\train\\00214f311d5d2247d5...              3  \n",
       "4  D:\\pet identification\\train\\0021f9ceb3235effd7...              4  "
      ]
     },
     "execution_count": 11,
     "metadata": {},
     "output_type": "execute_result"
    }
   ],
   "source": [
    "encoder = LabelEncoder()\n",
    "\n",
    "# with open(\"../input/arcface-gap-embed/le.pkl\", \"rb\") as fp:\n",
    "#     encoder = joblib.load(fp)\n",
    "encoder.fit(df['id'])\n",
    "    \n",
    "df['individual_id'] = encoder.transform(df['id'])\n",
    "df.head()"
   ]
  },
  {
   "cell_type": "code",
   "execution_count": 21,
   "id": "544990c3",
   "metadata": {
    "execution": {
     "iopub.execute_input": "2022-02-23T05:09:08.370561Z",
     "iopub.status.busy": "2022-02-23T05:09:08.369695Z",
     "iopub.status.idle": "2022-02-23T05:09:08.837347Z",
     "shell.execute_reply": "2022-02-23T05:09:08.836746Z",
     "shell.execute_reply.started": "2022-02-23T04:59:56.973632Z"
    },
    "papermill": {
     "duration": 0.554876,
     "end_time": "2022-02-23T05:09:08.837477",
     "exception": false,
     "start_time": "2022-02-23T05:09:08.282601",
     "status": "completed"
    },
    "tags": []
   },
   "outputs": [],
   "source": [
    "# skf = StratifiedKFold(n_splits=CONFIG['n_fold'])\n",
    "\n",
    "# for fold, ( _, val_) in enumerate(skf.split(X=df, y=df.individual_id)):\n",
    "#       df.loc[val_ , \"kfold\"] = fold"
   ]
  },
  {
   "cell_type": "markdown",
   "id": "f23c5a72",
   "metadata": {
    "papermill": {
     "duration": 0.080075,
     "end_time": "2022-02-23T05:09:08.998990",
     "exception": false,
     "start_time": "2022-02-23T05:09:08.918915",
     "status": "completed"
    },
    "tags": []
   },
   "source": [
    "# <span><h1 style = \"font-family: garamond; font-size: 40px; font-style: normal; letter-spcaing: 3px; background-color: #f6f5f5; color :#fe346e; border-radius: 100px 100px; text-align:center\">Dataset Class</h1></span>"
   ]
  },
  {
   "cell_type": "code",
   "execution_count": 12,
   "id": "f516bd05",
   "metadata": {
    "execution": {
     "iopub.execute_input": "2022-02-23T05:09:09.172469Z",
     "iopub.status.busy": "2022-02-23T05:09:09.170894Z",
     "iopub.status.idle": "2022-02-23T05:09:09.173063Z",
     "shell.execute_reply": "2022-02-23T05:09:09.173464Z",
     "shell.execute_reply.started": "2022-02-23T04:59:57.432756Z"
    },
    "papermill": {
     "duration": 0.091753,
     "end_time": "2022-02-23T05:09:09.173623",
     "exception": false,
     "start_time": "2022-02-23T05:09:09.081870",
     "status": "completed"
    },
    "tags": []
   },
   "outputs": [],
   "source": [
    "class HappyWhaleDataset(Dataset):\n",
    "    def __init__(self, df, transforms=None):\n",
    "        self.df = df\n",
    "        self.ids = df['id'].values\n",
    "        self.file_names = df['file_path'].values\n",
    "        self.labels = df['individual_id'].values\n",
    "        self.transforms = transforms\n",
    "        \n",
    "    def __len__(self):\n",
    "        return len(self.df)\n",
    "    \n",
    "    def __getitem__(self, index):\n",
    "        idx = self.ids[index]\n",
    "        img_path = self.file_names[index]\n",
    "        img = cv2.imread(img_path)\n",
    "        img = cv2.cvtColor(img, cv2.COLOR_BGR2RGB)\n",
    "        label = self.labels[index]\n",
    "        \n",
    "        if self.transforms:\n",
    "            img = self.transforms(image=img)[\"image\"]\n",
    "            \n",
    "        return {\n",
    "            'image': img,\n",
    "            'label': torch.tensor(label, dtype=torch.long),\n",
    "            'id': idx\n",
    "        }"
   ]
  },
  {
   "cell_type": "markdown",
   "id": "c4178d93",
   "metadata": {
    "papermill": {
     "duration": 0.083552,
     "end_time": "2022-02-23T05:09:09.337185",
     "exception": false,
     "start_time": "2022-02-23T05:09:09.253633",
     "status": "completed"
    },
    "tags": []
   },
   "source": [
    "# <span><h1 style = \"font-family: garamond; font-size: 40px; font-style: normal; letter-spcaing: 3px; background-color: #f6f5f5; color :#fe346e; border-radius: 100px 100px; text-align:center\">Augmentations</h1></span>"
   ]
  },
  {
   "cell_type": "code",
   "execution_count": 13,
   "id": "7eab578f",
   "metadata": {
    "execution": {
     "iopub.execute_input": "2022-02-23T05:09:09.505849Z",
     "iopub.status.busy": "2022-02-23T05:09:09.504905Z",
     "iopub.status.idle": "2022-02-23T05:09:09.506666Z",
     "shell.execute_reply": "2022-02-23T05:09:09.507167Z",
     "shell.execute_reply.started": "2022-02-23T04:59:57.442363Z"
    },
    "papermill": {
     "duration": 0.090063,
     "end_time": "2022-02-23T05:09:09.507329",
     "exception": false,
     "start_time": "2022-02-23T05:09:09.417266",
     "status": "completed"
    },
    "tags": []
   },
   "outputs": [],
   "source": [
    "data_transforms = {\n",
    "    \"train\": A.Compose([\n",
    "        A.Resize(CONFIG['img_size'], CONFIG['img_size']),\n",
    "        A.Normalize(\n",
    "                mean=[0.485, 0.456, 0.406], \n",
    "                std=[0.229, 0.224, 0.225], \n",
    "                max_pixel_value=255.0, \n",
    "                p=1.0\n",
    "            ),\n",
    "        ToTensorV2()], p=1.),\n",
    "    \n",
    "    \"valid\": A.Compose([\n",
    "        A.Resize(CONFIG['img_size'], CONFIG['img_size']),\n",
    "        A.Normalize(\n",
    "                mean=[0.485, 0.456, 0.406], \n",
    "                std=[0.229, 0.224, 0.225], \n",
    "                max_pixel_value=255.0, \n",
    "                p=1.0\n",
    "            ),\n",
    "        ToTensorV2()], p=1.)\n",
    "}"
   ]
  },
  {
   "cell_type": "markdown",
   "id": "64ad64ea",
   "metadata": {
    "papermill": {
     "duration": 0.081811,
     "end_time": "2022-02-23T05:09:09.668874",
     "exception": false,
     "start_time": "2022-02-23T05:09:09.587063",
     "status": "completed"
    },
    "tags": []
   },
   "source": [
    "# <span><h1 style = \"font-family: garamond; font-size: 40px; font-style: normal; letter-spcaing: 3px; background-color: #f6f5f5; color :#fe346e; border-radius: 100px 100px; text-align:center\">GeM Pooling</h1></span>"
   ]
  },
  {
   "cell_type": "code",
   "execution_count": 14,
   "id": "cbf8edad",
   "metadata": {
    "execution": {
     "iopub.execute_input": "2022-02-23T05:09:09.838078Z",
     "iopub.status.busy": "2022-02-23T05:09:09.837347Z",
     "iopub.status.idle": "2022-02-23T05:09:09.840936Z",
     "shell.execute_reply": "2022-02-23T05:09:09.840445Z",
     "shell.execute_reply.started": "2022-02-23T04:59:57.454330Z"
    },
    "papermill": {
     "duration": 0.092015,
     "end_time": "2022-02-23T05:09:09.841063",
     "exception": false,
     "start_time": "2022-02-23T05:09:09.749048",
     "status": "completed"
    },
    "tags": []
   },
   "outputs": [],
   "source": [
    "# NOT USED\n",
    "\n",
    "class GeM(nn.Module):\n",
    "    def __init__(self, p=3, eps=1e-6):\n",
    "        super(GeM, self).__init__()\n",
    "        self.p = nn.Parameter(torch.ones(1)*p)\n",
    "        self.eps = eps\n",
    "\n",
    "    def forward(self, x):\n",
    "        return self.gem(x, p=self.p, eps=self.eps)\n",
    "        \n",
    "    def gem(self, x, p=3, eps=1e-6):\n",
    "        return F.avg_pool2d(x.clamp(min=eps).pow(p), (x.size(-2), x.size(-1))).pow(1./p)\n",
    "        \n",
    "    def __repr__(self):\n",
    "        return self.__class__.__name__ + \\\n",
    "                '(' + 'p=' + '{:.4f}'.format(self.p.data.tolist()[0]) + \\\n",
    "                ', ' + 'eps=' + str(self.eps) + ')'"
   ]
  },
  {
   "cell_type": "markdown",
   "id": "3d7646c1",
   "metadata": {
    "papermill": {
     "duration": 0.081461,
     "end_time": "2022-02-23T05:09:10.002388",
     "exception": false,
     "start_time": "2022-02-23T05:09:09.920927",
     "status": "completed"
    },
    "tags": []
   },
   "source": [
    "# <span><h1 style = \"font-family: garamond; font-size: 40px; font-style: normal; letter-spcaing: 3px; background-color: #f6f5f5; color :#fe346e; border-radius: 100px 100px; text-align:center\">ArcFace</h1></span>"
   ]
  },
  {
   "cell_type": "code",
   "execution_count": 15,
   "id": "23165d1c",
   "metadata": {
    "execution": {
     "iopub.execute_input": "2022-02-23T05:09:10.179824Z",
     "iopub.status.busy": "2022-02-23T05:09:10.178836Z",
     "iopub.status.idle": "2022-02-23T05:09:10.181012Z",
     "shell.execute_reply": "2022-02-23T05:09:10.181388Z",
     "shell.execute_reply.started": "2022-02-23T04:59:57.466699Z"
    },
    "papermill": {
     "duration": 0.096308,
     "end_time": "2022-02-23T05:09:10.181535",
     "exception": false,
     "start_time": "2022-02-23T05:09:10.085227",
     "status": "completed"
    },
    "tags": []
   },
   "outputs": [],
   "source": [
    "class ArcMarginProduct(nn.Module):\n",
    "    r\"\"\"Implement of large margin arc distance: :\n",
    "        Args:\n",
    "            in_features: size of each input sample\n",
    "            out_features: size of each output sample\n",
    "            s: norm of input feature\n",
    "            m: margin\n",
    "            cos(theta + m)\n",
    "        \"\"\"\n",
    "    def __init__(self, in_features, out_features, s=30.0, \n",
    "                 m=0.50, easy_margin=False, ls_eps=0.0):\n",
    "        super(ArcMarginProduct, self).__init__()\n",
    "        self.in_features = in_features\n",
    "        self.out_features = out_features\n",
    "        self.s = s\n",
    "        self.m = m\n",
    "        self.ls_eps = ls_eps  # label smoothing\n",
    "        self.weight = nn.Parameter(torch.FloatTensor(out_features, in_features))\n",
    "        nn.init.xavier_uniform_(self.weight)\n",
    "\n",
    "        self.easy_margin = easy_margin\n",
    "        self.cos_m = math.cos(m)\n",
    "        self.sin_m = math.sin(m)\n",
    "        self.th = math.cos(math.pi - m)\n",
    "        self.mm = math.sin(math.pi - m) * m\n",
    "\n",
    "    def forward(self, input, label):\n",
    "        # --------------------------- cos(theta) & phi(theta) ---------------------\n",
    "        cosine = F.linear(F.normalize(input), F.normalize(self.weight))\n",
    "        sine = torch.sqrt(1.0 - torch.pow(cosine, 2))\n",
    "        phi = cosine * self.cos_m - sine * self.sin_m\n",
    "        if self.easy_margin:\n",
    "            phi = torch.where(cosine > 0, phi, cosine)\n",
    "        else:\n",
    "            phi = torch.where(cosine > self.th, phi, cosine - self.mm)\n",
    "        # --------------------------- convert label to one-hot ---------------------\n",
    "        # one_hot = torch.zeros(cosine.size(), requires_grad=True, device='cuda')\n",
    "        one_hot = torch.zeros(cosine.size(), device=CONFIG['device'])\n",
    "        one_hot.scatter_(1, label.view(-1, 1).long(), 1)\n",
    "        if self.ls_eps > 0:\n",
    "            one_hot = (1 - self.ls_eps) * one_hot + self.ls_eps / self.out_features\n",
    "        # -------------torch.where(out_i = {x_i if condition_i else y_i) ------------\n",
    "        output = (one_hot * phi) + ((1.0 - one_hot) * cosine)\n",
    "        output *= self.s\n",
    "\n",
    "        return output"
   ]
  },
  {
   "cell_type": "markdown",
   "id": "45642686",
   "metadata": {
    "papermill": {
     "duration": 0.080073,
     "end_time": "2022-02-23T05:09:10.341688",
     "exception": false,
     "start_time": "2022-02-23T05:09:10.261615",
     "status": "completed"
    },
    "tags": []
   },
   "source": [
    "# <span><h1 style = \"font-family: garamond; font-size: 40px; font-style: normal; letter-spcaing: 3px; background-color: #f6f5f5; color :#fe346e; border-radius: 100px 100px; text-align:center\">Model</h1></span>"
   ]
  },
  {
   "cell_type": "code",
   "execution_count": 17,
   "id": "d0227c63",
   "metadata": {
    "execution": {
     "iopub.execute_input": "2022-02-23T05:09:10.515682Z",
     "iopub.status.busy": "2022-02-23T05:09:10.515050Z",
     "iopub.status.idle": "2022-02-23T05:09:16.208014Z",
     "shell.execute_reply": "2022-02-23T05:09:16.207079Z",
     "shell.execute_reply.started": "2022-02-23T04:59:57.485440Z"
    },
    "papermill": {
     "duration": 5.785999,
     "end_time": "2022-02-23T05:09:16.208162",
     "exception": false,
     "start_time": "2022-02-23T05:09:10.422163",
     "status": "completed"
    },
    "tags": []
   },
   "outputs": [
    {
     "name": "stderr",
     "output_type": "stream",
     "text": [
      "INFO:timm.models._builder:Loading pretrained weights from Hugging Face hub (timm/tf_efficientnet_b0.ns_jft_in1k)\n",
      "INFO:timm.models._hub:[timm/tf_efficientnet_b0.ns_jft_in1k] Safe alternative available for 'pytorch_model.bin' (as 'model.safetensors'). Loading weights using safetensors.\n"
     ]
    }
   ],
   "source": [
    "class HappyWhaleModel(nn.Module):\n",
    "    def __init__(self, model_name, embedding_size, pretrained=True):\n",
    "        super(HappyWhaleModel, self).__init__()\n",
    "        self.model = timm.create_model(model_name, pretrained=pretrained)\n",
    "        in_features = self.model.classifier.in_features\n",
    "        self.model.classifier = nn.Identity()\n",
    "        self.embedding = nn.Linear(in_features, embedding_size)\n",
    "        self.fc = ArcMarginProduct(embedding_size, \n",
    "                                   CONFIG[\"num_classes\"],\n",
    "                                   s=CONFIG[\"s\"], \n",
    "                                   m=CONFIG[\"m\"], \n",
    "                                   easy_margin=CONFIG[\"ls_eps\"], \n",
    "                                   ls_eps=CONFIG[\"ls_eps\"])\n",
    "    \n",
    "    def forward(self, images, labels):\n",
    "        features = self.model(images)\n",
    "        embedding = self.embedding(features)\n",
    "        output = self.fc(embedding, labels)\n",
    "        return output\n",
    "    \n",
    "    def extract(self, images):\n",
    "        features = self.model(images)\n",
    "        embedding = self.embedding(features)\n",
    "        return embedding\n",
    "    \n",
    "\n",
    "model = HappyWhaleModel(CONFIG['model_name'], CONFIG['embedding_size'])\n",
    "# model.load_state_dict(torch.load(\"../input/arcface-gap-embed/Loss14.0082_epoch10.bin\"))\n",
    "model.to(CONFIG['device']);"
   ]
  },
  {
   "cell_type": "code",
   "execution_count": 18,
   "id": "17cf96a2",
   "metadata": {
    "execution": {
     "iopub.execute_input": "2022-02-23T05:09:16.382897Z",
     "iopub.status.busy": "2022-02-23T05:09:16.382016Z",
     "iopub.status.idle": "2022-02-23T05:09:16.384336Z",
     "shell.execute_reply": "2022-02-23T05:09:16.384757Z",
     "shell.execute_reply.started": "2022-02-23T05:00:02.291683Z"
    },
    "papermill": {
     "duration": 0.095398,
     "end_time": "2022-02-23T05:09:16.384911",
     "exception": false,
     "start_time": "2022-02-23T05:09:16.289513",
     "status": "completed"
    },
    "tags": []
   },
   "outputs": [],
   "source": [
    "@torch.inference_mode()\n",
    "def get_embeddings(model, dataloader, device):\n",
    "    model.eval()\n",
    "    \n",
    "    LABELS = []\n",
    "    EMBEDS = []\n",
    "    IDS = []\n",
    "    print('start to get the embeddings')\n",
    "    bar = tqdm(enumerate(dataloader), total=len(dataloader))\n",
    "    for step, data in bar:        \n",
    "        images = data['image'].to(device, dtype=torch.float)\n",
    "        labels = data['label'].to(device, dtype=torch.long)\n",
    "        ids = data['id']\n",
    "\n",
    "        outputs = model.extract(images)\n",
    "        \n",
    "        LABELS.append(labels.cpu().numpy())\n",
    "        EMBEDS.append(outputs.cpu().numpy())\n",
    "        IDS.append(ids)\n",
    "    \n",
    "    EMBEDS = np.vstack(EMBEDS)\n",
    "    LABELS = np.concatenate(LABELS)\n",
    "    IDS = np.concatenate(IDS)\n",
    "    \n",
    "    return EMBEDS, LABELS, IDS"
   ]
  },
  {
   "cell_type": "code",
   "execution_count": 34,
   "id": "1103ac6e",
   "metadata": {
    "execution": {
     "iopub.execute_input": "2022-02-23T05:09:16.570050Z",
     "iopub.status.busy": "2022-02-23T05:09:16.569386Z",
     "iopub.status.idle": "2022-02-23T05:09:16.572414Z",
     "shell.execute_reply": "2022-02-23T05:09:16.572850Z",
     "shell.execute_reply.started": "2022-02-23T05:00:02.302901Z"
    },
    "papermill": {
     "duration": 0.103684,
     "end_time": "2022-02-23T05:09:16.573006",
     "exception": false,
     "start_time": "2022-02-23T05:09:16.469322",
     "status": "completed"
    },
    "tags": []
   },
   "outputs": [],
   "source": [
    "def prepare_loaders(df, fold):\n",
    "    df_train = df[df.kfold != fold].reset_index(drop=True)\n",
    "    df_valid = df[df.kfold == fold].reset_index(drop=True)\n",
    "    \n",
    "    train_dataset = HappyWhaleDataset(df_train, transforms=data_transforms[\"train\"])\n",
    "    valid_dataset = HappyWhaleDataset(df_valid, transforms=data_transforms[\"valid\"])\n",
    "\n",
    "    train_loader = DataLoader(train_dataset, batch_size=CONFIG['train_batch_size'], \n",
    "                              num_workers=2, shuffle=False, pin_memory=True)\n",
    "    valid_loader = DataLoader(valid_dataset, batch_size=CONFIG['valid_batch_size'], \n",
    "                              num_workers=2, shuffle=False, pin_memory=True)\n",
    "    \n",
    "    return train_loader, valid_loader"
   ]
  },
  {
   "cell_type": "code",
   "execution_count": 21,
   "id": "ba2d5297",
   "metadata": {
    "execution": {
     "iopub.execute_input": "2022-02-23T05:09:16.744726Z",
     "iopub.status.busy": "2022-02-23T05:09:16.743692Z",
     "iopub.status.idle": "2022-02-23T05:09:16.758414Z",
     "shell.execute_reply": "2022-02-23T05:09:16.757952Z",
     "shell.execute_reply.started": "2022-02-23T05:00:02.315670Z"
    },
    "papermill": {
     "duration": 0.101714,
     "end_time": "2022-02-23T05:09:16.758530",
     "exception": false,
     "start_time": "2022-02-23T05:09:16.656816",
     "status": "completed"
    },
    "tags": []
   },
   "outputs": [
    {
     "name": "stdout",
     "output_type": "stream",
     "text": [
      "10222\n"
     ]
    }
   ],
   "source": [
    "size_of_dataset = len(df)\n",
    "print(size_of_dataset)\n",
    "ratio = 3 / 4\n",
    "train_dataset = HappyWhaleDataset(df[0:int(size_of_dataset * ratio)], transforms=data_transforms[\"train\"])\n",
    "valid_dataset = HappyWhaleDataset(df[int(size_of_dataset * ratio):], transforms=data_transforms[\"valid\"])"
   ]
  },
  {
   "cell_type": "code",
   "execution_count": 22,
   "id": "7ed31156",
   "metadata": {},
   "outputs": [],
   "source": [
    "train_loader = DataLoader(train_dataset, batch_size=CONFIG['train_batch_size'], \n",
    "                              num_workers=2, shuffle=False, pin_memory=True)\n",
    "valid_loader = DataLoader(valid_dataset, batch_size=CONFIG['valid_batch_size'], \n",
    "                              num_workers=2, shuffle=False, pin_memory=True)"
   ]
  },
  {
   "cell_type": "code",
   "execution_count": 23,
   "id": "8b26fc5c",
   "metadata": {
    "execution": {
     "iopub.execute_input": "2022-02-23T05:09:16.928004Z",
     "iopub.status.busy": "2022-02-23T05:09:16.927338Z",
     "iopub.status.idle": "2022-02-23T06:02:57.373418Z",
     "shell.execute_reply": "2022-02-23T06:02:57.373946Z",
     "shell.execute_reply.started": "2022-02-23T05:00:02.336167Z"
    },
    "papermill": {
     "duration": 3220.534096,
     "end_time": "2022-02-23T06:02:57.374113",
     "exception": false,
     "start_time": "2022-02-23T05:09:16.840017",
     "status": "completed"
    },
    "tags": []
   },
   "outputs": [
    {
     "name": "stdout",
     "output_type": "stream",
     "text": [
      "start to get the embeddings\n"
     ]
    }
   ],
   "source": [
    "train_embeds, train_labels, train_ids = get_embeddings(model, train_loader, CONFIG['device'])\n",
    "valid_embeds, valid_labels, valid_ids = get_embeddings(model, valid_loader, CONFIG['device'])"
   ]
  },
  {
   "cell_type": "code",
   "execution_count": 19,
   "id": "1b72419c",
   "metadata": {
    "execution": {
     "iopub.execute_input": "2022-02-23T06:02:58.036681Z",
     "iopub.status.busy": "2022-02-23T06:02:58.035654Z",
     "iopub.status.idle": "2022-02-23T06:02:58.135850Z",
     "shell.execute_reply": "2022-02-23T06:02:58.136398Z",
     "shell.execute_reply.started": "2022-02-23T05:00:54.866617Z"
    },
    "papermill": {
     "duration": 0.438053,
     "end_time": "2022-02-23T06:02:58.136567",
     "exception": false,
     "start_time": "2022-02-23T06:02:57.698514",
     "status": "completed"
    },
    "tags": []
   },
   "outputs": [
    {
     "ename": "NameError",
     "evalue": "name 'train_embeds' is not defined",
     "output_type": "error",
     "traceback": [
      "\u001b[1;31m---------------------------------------------------------------------------\u001b[0m",
      "\u001b[1;31mNameError\u001b[0m                                 Traceback (most recent call last)",
      "Cell \u001b[1;32mIn[19], line 1\u001b[0m\n\u001b[1;32m----> 1\u001b[0m train_embeds \u001b[38;5;241m=\u001b[39m normalize(\u001b[43mtrain_embeds\u001b[49m, axis\u001b[38;5;241m=\u001b[39m\u001b[38;5;241m1\u001b[39m, norm\u001b[38;5;241m=\u001b[39m\u001b[38;5;124m'\u001b[39m\u001b[38;5;124ml2\u001b[39m\u001b[38;5;124m'\u001b[39m)\n\u001b[0;32m      2\u001b[0m valid_embeds \u001b[38;5;241m=\u001b[39m normalize(valid_embeds, axis\u001b[38;5;241m=\u001b[39m\u001b[38;5;241m1\u001b[39m, norm\u001b[38;5;241m=\u001b[39m\u001b[38;5;124m'\u001b[39m\u001b[38;5;124ml2\u001b[39m\u001b[38;5;124m'\u001b[39m)\n",
      "\u001b[1;31mNameError\u001b[0m: name 'train_embeds' is not defined"
     ]
    }
   ],
   "source": [
    "train_embeds = normalize(train_embeds, axis=1, norm='l2')\n",
    "valid_embeds = normalize(valid_embeds, axis=1, norm='l2')"
   ]
  },
  {
   "cell_type": "code",
   "execution_count": 20,
   "id": "714ffbe8",
   "metadata": {
    "execution": {
     "iopub.execute_input": "2022-02-23T06:02:58.794305Z",
     "iopub.status.busy": "2022-02-23T06:02:58.793461Z",
     "iopub.status.idle": "2022-02-23T06:02:58.802367Z",
     "shell.execute_reply": "2022-02-23T06:02:58.801950Z",
     "shell.execute_reply.started": "2022-02-23T05:00:54.876684Z"
    },
    "papermill": {
     "duration": 0.336031,
     "end_time": "2022-02-23T06:02:58.802482",
     "exception": false,
     "start_time": "2022-02-23T06:02:58.466451",
     "status": "completed"
    },
    "tags": []
   },
   "outputs": [],
   "source": [
    "train_labels = encoder.inverse_transform(train_labels)\n",
    "valid_labels = encoder.inverse_transform(valid_labels)"
   ]
  },
  {
   "cell_type": "code",
   "execution_count": 21,
   "id": "2b7ba5fc",
   "metadata": {
    "execution": {
     "iopub.execute_input": "2022-02-23T06:02:59.457031Z",
     "iopub.status.busy": "2022-02-23T06:02:59.456211Z",
     "iopub.status.idle": "2022-02-23T06:02:59.525158Z",
     "shell.execute_reply": "2022-02-23T06:02:59.524678Z",
     "shell.execute_reply.started": "2022-02-23T05:00:54.887011Z"
    },
    "papermill": {
     "duration": 0.397984,
     "end_time": "2022-02-23T06:02:59.525285",
     "exception": false,
     "start_time": "2022-02-23T06:02:59.127301",
     "status": "completed"
    },
    "tags": []
   },
   "outputs": [],
   "source": [
    "index = faiss.IndexFlatIP(CONFIG['embedding_size'])\n",
    "index.add(train_embeds)"
   ]
  },
  {
   "cell_type": "code",
   "execution_count": 22,
   "id": "98436613",
   "metadata": {
    "execution": {
     "iopub.execute_input": "2022-02-23T06:03:00.181434Z",
     "iopub.status.busy": "2022-02-23T06:03:00.179306Z",
     "iopub.status.idle": "2022-02-23T06:03:03.515530Z",
     "shell.execute_reply": "2022-02-23T06:03:03.514990Z",
     "shell.execute_reply.started": "2022-02-23T05:00:54.895642Z"
    },
    "papermill": {
     "duration": 3.663665,
     "end_time": "2022-02-23T06:03:03.515669",
     "exception": false,
     "start_time": "2022-02-23T06:02:59.852004",
     "status": "completed"
    },
    "tags": []
   },
   "outputs": [],
   "source": [
    "D, I = index.search(valid_embeds, k=50)"
   ]
  },
  {
   "cell_type": "code",
   "execution_count": 23,
   "id": "db5a270a",
   "metadata": {
    "execution": {
     "iopub.execute_input": "2022-02-23T06:03:04.178518Z",
     "iopub.status.busy": "2022-02-23T06:03:04.177982Z",
     "iopub.status.idle": "2022-02-23T06:03:04.227931Z",
     "shell.execute_reply": "2022-02-23T06:03:04.227445Z",
     "shell.execute_reply.started": "2022-02-23T05:00:54.917341Z"
    },
    "papermill": {
     "duration": 0.387643,
     "end_time": "2022-02-23T06:03:04.228057",
     "exception": false,
     "start_time": "2022-02-23T06:03:03.840414",
     "status": "completed"
    },
    "tags": []
   },
   "outputs": [],
   "source": [
    "allowed_targets = np.unique(train_labels)"
   ]
  },
  {
   "cell_type": "code",
   "execution_count": 24,
   "id": "065262bc",
   "metadata": {
    "execution": {
     "iopub.execute_input": "2022-02-23T06:03:04.886332Z",
     "iopub.status.busy": "2022-02-23T06:03:04.885730Z",
     "iopub.status.idle": "2022-02-23T06:03:04.904769Z",
     "shell.execute_reply": "2022-02-23T06:03:04.904329Z",
     "shell.execute_reply.started": "2022-02-23T05:00:54.926792Z"
    },
    "papermill": {
     "duration": 0.352275,
     "end_time": "2022-02-23T06:03:04.904887",
     "exception": false,
     "start_time": "2022-02-23T06:03:04.552612",
     "status": "completed"
    },
    "tags": []
   },
   "outputs": [
    {
     "data": {
      "text/plain": [
       "new_individual    1850\n",
       "37c7aba965a5        80\n",
       "114207cab555        34\n",
       "a6e325d8e924        31\n",
       "19fbb960f07d        31\n",
       "                  ... \n",
       "c511fbe2acd1         1\n",
       "b90f72a6be9b         1\n",
       "579a23a02325         1\n",
       "045ca1b5a580         1\n",
       "26145086bca6         1\n",
       "Name: target, Length: 4012, dtype: int64"
      ]
     },
     "execution_count": 24,
     "metadata": {},
     "output_type": "execute_result"
    }
   ],
   "source": [
    "val_targets_df = pd.DataFrame(np.stack([valid_ids, valid_labels], axis=1), columns=['image','target'])\n",
    "val_targets_df.loc[~val_targets_df.target.isin(allowed_targets), 'target'] = 'new_individual'\n",
    "val_targets_df.target.value_counts()"
   ]
  },
  {
   "cell_type": "code",
   "execution_count": 25,
   "id": "d209a3e9",
   "metadata": {
    "execution": {
     "iopub.execute_input": "2022-02-23T06:03:05.577618Z",
     "iopub.status.busy": "2022-02-23T06:03:05.576618Z",
     "iopub.status.idle": "2022-02-23T06:03:13.155377Z",
     "shell.execute_reply": "2022-02-23T06:03:13.154895Z",
     "shell.execute_reply.started": "2022-02-23T05:00:54.947086Z"
    },
    "papermill": {
     "duration": 7.910643,
     "end_time": "2022-02-23T06:03:13.155507",
     "exception": false,
     "start_time": "2022-02-23T06:03:05.244864",
     "status": "completed"
    },
    "tags": []
   },
   "outputs": [
    {
     "name": "stderr",
     "output_type": "stream",
     "text": [
      "10207it [00:07, 1347.89it/s]\n"
     ]
    }
   ],
   "source": [
    "valid_df = []\n",
    "for i, val_id in tqdm(enumerate(valid_ids)):\n",
    "    targets = train_labels[I[i]]\n",
    "    distances = D[i]\n",
    "    subset_preds = pd.DataFrame(np.stack([targets,distances],axis=1),columns=['target','distances'])\n",
    "    subset_preds['image'] = val_id\n",
    "    valid_df.append(subset_preds)"
   ]
  },
  {
   "cell_type": "code",
   "execution_count": 26,
   "id": "acae71b7",
   "metadata": {
    "execution": {
     "iopub.execute_input": "2022-02-23T06:03:13.887673Z",
     "iopub.status.busy": "2022-02-23T06:03:13.877279Z",
     "iopub.status.idle": "2022-02-23T06:03:46.717822Z",
     "shell.execute_reply": "2022-02-23T06:03:46.718265Z",
     "shell.execute_reply.started": "2022-02-23T05:00:54.964631Z"
    },
    "papermill": {
     "duration": 33.214192,
     "end_time": "2022-02-23T06:03:46.718409",
     "exception": false,
     "start_time": "2022-02-23T06:03:13.504217",
     "status": "completed"
    },
    "tags": []
   },
   "outputs": [
    {
     "data": {
      "text/html": [
       "<div>\n",
       "<style scoped>\n",
       "    .dataframe tbody tr th:only-of-type {\n",
       "        vertical-align: middle;\n",
       "    }\n",
       "\n",
       "    .dataframe tbody tr th {\n",
       "        vertical-align: top;\n",
       "    }\n",
       "\n",
       "    .dataframe thead th {\n",
       "        text-align: right;\n",
       "    }\n",
       "</style>\n",
       "<table border=\"1\" class=\"dataframe\">\n",
       "  <thead>\n",
       "    <tr style=\"text-align: right;\">\n",
       "      <th></th>\n",
       "      <th>image</th>\n",
       "      <th>target</th>\n",
       "      <th>distances</th>\n",
       "    </tr>\n",
       "  </thead>\n",
       "  <tbody>\n",
       "    <tr>\n",
       "      <th>0</th>\n",
       "      <td>00021adfb725ed.jpg</td>\n",
       "      <td>05537db8e443</td>\n",
       "      <td>0.399954</td>\n",
       "    </tr>\n",
       "    <tr>\n",
       "      <th>1</th>\n",
       "      <td>00021adfb725ed.jpg</td>\n",
       "      <td>0b51eccf2840</td>\n",
       "      <td>0.462020</td>\n",
       "    </tr>\n",
       "    <tr>\n",
       "      <th>2</th>\n",
       "      <td>00021adfb725ed.jpg</td>\n",
       "      <td>164a5c36c8a1</td>\n",
       "      <td>0.370566</td>\n",
       "    </tr>\n",
       "    <tr>\n",
       "      <th>3</th>\n",
       "      <td>00021adfb725ed.jpg</td>\n",
       "      <td>23a2f26c158f</td>\n",
       "      <td>0.340178</td>\n",
       "    </tr>\n",
       "    <tr>\n",
       "      <th>4</th>\n",
       "      <td>00021adfb725ed.jpg</td>\n",
       "      <td>2842789d601d</td>\n",
       "      <td>0.341429</td>\n",
       "    </tr>\n",
       "  </tbody>\n",
       "</table>\n",
       "</div>"
      ],
      "text/plain": [
       "                image        target  distances\n",
       "0  00021adfb725ed.jpg  05537db8e443   0.399954\n",
       "1  00021adfb725ed.jpg  0b51eccf2840   0.462020\n",
       "2  00021adfb725ed.jpg  164a5c36c8a1   0.370566\n",
       "3  00021adfb725ed.jpg  23a2f26c158f   0.340178\n",
       "4  00021adfb725ed.jpg  2842789d601d   0.341429"
      ]
     },
     "execution_count": 26,
     "metadata": {},
     "output_type": "execute_result"
    }
   ],
   "source": [
    "valid_df = pd.concat(valid_df).reset_index(drop=True)\n",
    "valid_df = valid_df.groupby(['image','target']).distances.max().reset_index()\n",
    "valid_df.head()"
   ]
  },
  {
   "cell_type": "code",
   "execution_count": 27,
   "id": "21dcdf15",
   "metadata": {
    "execution": {
     "iopub.execute_input": "2022-02-23T06:03:47.427506Z",
     "iopub.status.busy": "2022-02-23T06:03:47.426150Z",
     "iopub.status.idle": "2022-02-23T06:03:49.115038Z",
     "shell.execute_reply": "2022-02-23T06:03:49.114466Z",
     "shell.execute_reply.started": "2022-02-23T05:00:55.015727Z"
    },
    "papermill": {
     "duration": 2.044139,
     "end_time": "2022-02-23T06:03:49.115180",
     "exception": false,
     "start_time": "2022-02-23T06:03:47.071041",
     "status": "completed"
    },
    "tags": []
   },
   "outputs": [],
   "source": [
    "valid_df = valid_df.sort_values('distances', ascending=False).reset_index(drop=True)\n",
    "valid_df.to_csv('val_neighbors.csv')"
   ]
  },
  {
   "cell_type": "code",
   "execution_count": 28,
   "id": "9e65485f",
   "metadata": {
    "execution": {
     "iopub.execute_input": "2022-02-23T06:03:49.818886Z",
     "iopub.status.busy": "2022-02-23T06:03:49.817274Z",
     "iopub.status.idle": "2022-02-23T06:03:49.819464Z",
     "shell.execute_reply": "2022-02-23T06:03:49.819928Z",
     "shell.execute_reply.started": "2022-02-23T05:00:55.028208Z"
    },
    "papermill": {
     "duration": 0.353004,
     "end_time": "2022-02-23T06:03:49.820070",
     "exception": false,
     "start_time": "2022-02-23T06:03:49.467066",
     "status": "completed"
    },
    "tags": []
   },
   "outputs": [],
   "source": [
    "sample_list = ['938b7e931166', '5bf17305f073', '7593d2aee842', '7362d7a01d00','956562ff2888']"
   ]
  },
  {
   "cell_type": "code",
   "execution_count": 29,
   "id": "8da8016f",
   "metadata": {
    "execution": {
     "iopub.execute_input": "2022-02-23T06:03:50.521831Z",
     "iopub.status.busy": "2022-02-23T06:03:50.517440Z",
     "iopub.status.idle": "2022-02-23T06:03:50.524161Z",
     "shell.execute_reply": "2022-02-23T06:03:50.523720Z",
     "shell.execute_reply.started": "2022-02-23T05:00:55.035090Z"
    },
    "papermill": {
     "duration": 0.355769,
     "end_time": "2022-02-23T06:03:50.524268",
     "exception": false,
     "start_time": "2022-02-23T06:03:50.168499",
     "status": "completed"
    },
    "tags": []
   },
   "outputs": [],
   "source": [
    "def get_predictions(test_df, threshold=0.2):\n",
    "    predictions = {}\n",
    "    for i, row in tqdm(test_df.iterrows()):\n",
    "        if row.image in predictions:\n",
    "            if len(predictions[row.image]) == 5:\n",
    "                continue\n",
    "            predictions[row.image].append(row.target)\n",
    "        elif row.distances > threshold:\n",
    "            predictions[row.image] = [row.target, 'new_individual']\n",
    "        else:\n",
    "            predictions[row.image] = ['new_individual', row.target]\n",
    "\n",
    "    for x in tqdm(predictions):\n",
    "        if len(predictions[x]) < 5:\n",
    "            remaining = [y for y in sample_list if y not in predictions]\n",
    "            predictions[x] = predictions[x] + remaining\n",
    "            predictions[x] = predictions[x][:5]\n",
    "        \n",
    "    return predictions"
   ]
  },
  {
   "cell_type": "code",
   "execution_count": 30,
   "id": "86548124",
   "metadata": {
    "execution": {
     "iopub.execute_input": "2022-02-23T06:03:51.328920Z",
     "iopub.status.busy": "2022-02-23T06:03:51.326980Z",
     "iopub.status.idle": "2022-02-23T06:03:51.329928Z",
     "shell.execute_reply": "2022-02-23T06:03:51.330830Z",
     "shell.execute_reply.started": "2022-02-23T05:00:55.046629Z"
    },
    "papermill": {
     "duration": 0.461669,
     "end_time": "2022-02-23T06:03:51.331142",
     "exception": false,
     "start_time": "2022-02-23T06:03:50.869473",
     "status": "completed"
    },
    "tags": []
   },
   "outputs": [],
   "source": [
    "def map_per_image(label, predictions):\n",
    "    \"\"\"Computes the precision score of one image.\n",
    "\n",
    "    Parameters\n",
    "    ----------\n",
    "    label : string\n",
    "            The true label of the image\n",
    "    predictions : list\n",
    "            A list of predicted elements (order does matter, 5 predictions allowed per image)\n",
    "\n",
    "    Returns\n",
    "    -------\n",
    "    score : double\n",
    "    \"\"\"    \n",
    "    try:\n",
    "        return 1 / (predictions[:5].index(label) + 1)\n",
    "    except ValueError:\n",
    "        return 0.0"
   ]
  },
  {
   "cell_type": "markdown",
   "id": "a28cfb5f",
   "metadata": {
    "papermill": {
     "duration": 0.35609,
     "end_time": "2022-02-23T06:03:52.185879",
     "exception": false,
     "start_time": "2022-02-23T06:03:51.829789",
     "status": "completed"
    },
    "tags": []
   },
   "source": [
    "# <span><h1 style = \"font-family: garamond; font-size: 40px; font-style: normal; letter-spcaing: 3px; background-color: #f6f5f5; color :#fe346e; border-radius: 100px 100px; text-align:center\">Compute CV</h1></span>"
   ]
  },
  {
   "cell_type": "code",
   "execution_count": 31,
   "id": "1e333b43",
   "metadata": {
    "execution": {
     "iopub.execute_input": "2022-02-23T06:03:52.899655Z",
     "iopub.status.busy": "2022-02-23T06:03:52.898409Z",
     "iopub.status.idle": "2022-02-23T06:08:21.064509Z",
     "shell.execute_reply": "2022-02-23T06:08:21.065175Z",
     "shell.execute_reply.started": "2022-02-23T05:00:55.056494Z"
    },
    "papermill": {
     "duration": 268.525352,
     "end_time": "2022-02-23T06:08:21.065383",
     "exception": false,
     "start_time": "2022-02-23T06:03:52.540031",
     "status": "completed"
    },
    "tags": []
   },
   "outputs": [
    {
     "name": "stderr",
     "output_type": "stream",
     "text": [
      "347594it [00:21, 16290.38it/s]\n",
      "100%|██████████| 10207/10207 [00:00<00:00, 1064983.23it/s]\n"
     ]
    },
    {
     "name": "stdout",
     "output_type": "stream",
     "text": [
      "CV at threshold 0.0: 0.37964468828581743\n"
     ]
    },
    {
     "name": "stderr",
     "output_type": "stream",
     "text": [
      "347594it [00:21, 16070.55it/s]\n",
      "100%|██████████| 10207/10207 [00:00<00:00, 917613.57it/s]\n"
     ]
    },
    {
     "name": "stdout",
     "output_type": "stream",
     "text": [
      "CV at threshold 0.1: 0.37964468828581743\n"
     ]
    },
    {
     "name": "stderr",
     "output_type": "stream",
     "text": [
      "347594it [00:21, 16494.92it/s]\n",
      "100%|██████████| 10207/10207 [00:00<00:00, 1019145.88it/s]\n"
     ]
    },
    {
     "name": "stdout",
     "output_type": "stream",
     "text": [
      "CV at threshold 0.2: 0.37964468828581743\n"
     ]
    },
    {
     "name": "stderr",
     "output_type": "stream",
     "text": [
      "347594it [00:21, 16492.65it/s]\n",
      "100%|██████████| 10207/10207 [00:00<00:00, 1167537.39it/s]\n"
     ]
    },
    {
     "name": "stdout",
     "output_type": "stream",
     "text": [
      "CV at threshold 0.30000000000000004: 0.37964468828581743\n"
     ]
    },
    {
     "name": "stderr",
     "output_type": "stream",
     "text": [
      "347594it [00:21, 16379.15it/s]\n",
      "100%|██████████| 10207/10207 [00:00<00:00, 1116592.18it/s]\n"
     ]
    },
    {
     "name": "stdout",
     "output_type": "stream",
     "text": [
      "CV at threshold 0.4: 0.38077136605597517\n"
     ]
    },
    {
     "name": "stderr",
     "output_type": "stream",
     "text": [
      "347594it [00:21, 16098.09it/s]\n",
      "100%|██████████| 10207/10207 [00:00<00:00, 1179373.58it/s]\n"
     ]
    },
    {
     "name": "stdout",
     "output_type": "stream",
     "text": [
      "CV at threshold 0.5: 0.4036478233891779\n"
     ]
    },
    {
     "name": "stderr",
     "output_type": "stream",
     "text": [
      "347594it [00:21, 16369.96it/s]\n",
      "100%|██████████| 10207/10207 [00:00<00:00, 1277223.69it/s]\n"
     ]
    },
    {
     "name": "stdout",
     "output_type": "stream",
     "text": [
      "CV at threshold 0.6000000000000001: 0.42456484112210596\n"
     ]
    },
    {
     "name": "stderr",
     "output_type": "stream",
     "text": [
      "347594it [00:21, 16026.10it/s]\n",
      "100%|██████████| 10207/10207 [00:00<00:00, 1130031.96it/s]\n"
     ]
    },
    {
     "name": "stdout",
     "output_type": "stream",
     "text": [
      "CV at threshold 0.7000000000000001: 0.40002286012867005\n"
     ]
    },
    {
     "name": "stderr",
     "output_type": "stream",
     "text": [
      "347594it [00:21, 16225.97it/s]\n",
      "100%|██████████| 10207/10207 [00:00<00:00, 1182109.04it/s]\n"
     ]
    },
    {
     "name": "stdout",
     "output_type": "stream",
     "text": [
      "CV at threshold 0.8: 0.3707782240945754\n"
     ]
    },
    {
     "name": "stderr",
     "output_type": "stream",
     "text": [
      "347594it [00:21, 15922.82it/s]\n",
      "100%|██████████| 10207/10207 [00:00<00:00, 798032.68it/s]\n"
     ]
    },
    {
     "name": "stdout",
     "output_type": "stream",
     "text": [
      "CV at threshold 0.9: 0.34932236047157134\n"
     ]
    },
    {
     "name": "stderr",
     "output_type": "stream",
     "text": [
      "347594it [00:21, 16065.69it/s]\n",
      "100%|██████████| 10207/10207 [00:00<00:00, 923253.42it/s]\n"
     ]
    },
    {
     "name": "stdout",
     "output_type": "stream",
     "text": [
      "CV at threshold 1.0: 0.34329708370072787\n"
     ]
    }
   ],
   "source": [
    "best_th = 0\n",
    "best_cv = 0\n",
    "for th in [0.1*x for x in range(11)]:\n",
    "    all_preds = get_predictions(valid_df, threshold=th)\n",
    "    cv = 0\n",
    "    for i,row in val_targets_df.iterrows():\n",
    "        target = row.target\n",
    "        preds = all_preds[row.image]\n",
    "        val_targets_df.loc[i,th] = map_per_image(target, preds)\n",
    "    cv = val_targets_df[th].mean()\n",
    "    print(f\"CV at threshold {th}: {cv}\")\n",
    "    if cv > best_cv:\n",
    "        best_th = th\n",
    "        best_cv = cv"
   ]
  },
  {
   "cell_type": "code",
   "execution_count": 32,
   "id": "5e2664fe",
   "metadata": {
    "execution": {
     "iopub.execute_input": "2022-02-23T06:08:23.525511Z",
     "iopub.status.busy": "2022-02-23T06:08:23.524704Z",
     "iopub.status.idle": "2022-02-23T06:08:23.586154Z",
     "shell.execute_reply": "2022-02-23T06:08:23.586990Z",
     "shell.execute_reply.started": "2022-02-23T05:00:55.362818Z"
    },
    "papermill": {
     "duration": 1.454416,
     "end_time": "2022-02-23T06:08:23.587225",
     "exception": false,
     "start_time": "2022-02-23T06:08:22.132809",
     "status": "completed"
    },
    "tags": []
   },
   "outputs": [
    {
     "name": "stdout",
     "output_type": "stream",
     "text": [
      "Best threshold 0.6000000000000001\n",
      "Best cv 0.42456484112210596\n"
     ]
    },
    {
     "data": {
      "text/html": [
       "<div>\n",
       "<style scoped>\n",
       "    .dataframe tbody tr th:only-of-type {\n",
       "        vertical-align: middle;\n",
       "    }\n",
       "\n",
       "    .dataframe tbody tr th {\n",
       "        vertical-align: top;\n",
       "    }\n",
       "\n",
       "    .dataframe thead th {\n",
       "        text-align: right;\n",
       "    }\n",
       "</style>\n",
       "<table border=\"1\" class=\"dataframe\">\n",
       "  <thead>\n",
       "    <tr style=\"text-align: right;\">\n",
       "      <th></th>\n",
       "      <th>0.0</th>\n",
       "      <th>0.1</th>\n",
       "      <th>0.2</th>\n",
       "      <th>0.30000000000000004</th>\n",
       "      <th>0.4</th>\n",
       "      <th>0.5</th>\n",
       "      <th>0.6000000000000001</th>\n",
       "      <th>0.7000000000000001</th>\n",
       "      <th>0.8</th>\n",
       "      <th>0.9</th>\n",
       "      <th>1.0</th>\n",
       "    </tr>\n",
       "  </thead>\n",
       "  <tbody>\n",
       "    <tr>\n",
       "      <th>count</th>\n",
       "      <td>10207.000000</td>\n",
       "      <td>10207.000000</td>\n",
       "      <td>10207.000000</td>\n",
       "      <td>10207.000000</td>\n",
       "      <td>10207.000000</td>\n",
       "      <td>10207.000000</td>\n",
       "      <td>10207.000000</td>\n",
       "      <td>10207.000000</td>\n",
       "      <td>10207.000000</td>\n",
       "      <td>10207.000000</td>\n",
       "      <td>10207.000000</td>\n",
       "    </tr>\n",
       "    <tr>\n",
       "      <th>mean</th>\n",
       "      <td>0.379645</td>\n",
       "      <td>0.379645</td>\n",
       "      <td>0.379645</td>\n",
       "      <td>0.379645</td>\n",
       "      <td>0.380771</td>\n",
       "      <td>0.403648</td>\n",
       "      <td>0.424565</td>\n",
       "      <td>0.400023</td>\n",
       "      <td>0.370778</td>\n",
       "      <td>0.349322</td>\n",
       "      <td>0.343297</td>\n",
       "    </tr>\n",
       "    <tr>\n",
       "      <th>std</th>\n",
       "      <td>0.406554</td>\n",
       "      <td>0.406554</td>\n",
       "      <td>0.406554</td>\n",
       "      <td>0.406554</td>\n",
       "      <td>0.407577</td>\n",
       "      <td>0.427189</td>\n",
       "      <td>0.443333</td>\n",
       "      <td>0.424224</td>\n",
       "      <td>0.398295</td>\n",
       "      <td>0.376701</td>\n",
       "      <td>0.370188</td>\n",
       "    </tr>\n",
       "    <tr>\n",
       "      <th>min</th>\n",
       "      <td>0.000000</td>\n",
       "      <td>0.000000</td>\n",
       "      <td>0.000000</td>\n",
       "      <td>0.000000</td>\n",
       "      <td>0.000000</td>\n",
       "      <td>0.000000</td>\n",
       "      <td>0.000000</td>\n",
       "      <td>0.000000</td>\n",
       "      <td>0.000000</td>\n",
       "      <td>0.000000</td>\n",
       "      <td>0.000000</td>\n",
       "    </tr>\n",
       "    <tr>\n",
       "      <th>25%</th>\n",
       "      <td>0.000000</td>\n",
       "      <td>0.000000</td>\n",
       "      <td>0.000000</td>\n",
       "      <td>0.000000</td>\n",
       "      <td>0.000000</td>\n",
       "      <td>0.000000</td>\n",
       "      <td>0.000000</td>\n",
       "      <td>0.000000</td>\n",
       "      <td>0.000000</td>\n",
       "      <td>0.000000</td>\n",
       "      <td>0.000000</td>\n",
       "    </tr>\n",
       "    <tr>\n",
       "      <th>50%</th>\n",
       "      <td>0.250000</td>\n",
       "      <td>0.250000</td>\n",
       "      <td>0.250000</td>\n",
       "      <td>0.250000</td>\n",
       "      <td>0.250000</td>\n",
       "      <td>0.250000</td>\n",
       "      <td>0.250000</td>\n",
       "      <td>0.250000</td>\n",
       "      <td>0.250000</td>\n",
       "      <td>0.250000</td>\n",
       "      <td>0.250000</td>\n",
       "    </tr>\n",
       "    <tr>\n",
       "      <th>75%</th>\n",
       "      <td>1.000000</td>\n",
       "      <td>1.000000</td>\n",
       "      <td>1.000000</td>\n",
       "      <td>1.000000</td>\n",
       "      <td>1.000000</td>\n",
       "      <td>1.000000</td>\n",
       "      <td>1.000000</td>\n",
       "      <td>1.000000</td>\n",
       "      <td>0.500000</td>\n",
       "      <td>0.500000</td>\n",
       "      <td>0.500000</td>\n",
       "    </tr>\n",
       "    <tr>\n",
       "      <th>max</th>\n",
       "      <td>1.000000</td>\n",
       "      <td>1.000000</td>\n",
       "      <td>1.000000</td>\n",
       "      <td>1.000000</td>\n",
       "      <td>1.000000</td>\n",
       "      <td>1.000000</td>\n",
       "      <td>1.000000</td>\n",
       "      <td>1.000000</td>\n",
       "      <td>1.000000</td>\n",
       "      <td>1.000000</td>\n",
       "      <td>1.000000</td>\n",
       "    </tr>\n",
       "  </tbody>\n",
       "</table>\n",
       "</div>"
      ],
      "text/plain": [
       "                0.0           0.1           0.2  0.30000000000000004  \\\n",
       "count  10207.000000  10207.000000  10207.000000         10207.000000   \n",
       "mean       0.379645      0.379645      0.379645             0.379645   \n",
       "std        0.406554      0.406554      0.406554             0.406554   \n",
       "min        0.000000      0.000000      0.000000             0.000000   \n",
       "25%        0.000000      0.000000      0.000000             0.000000   \n",
       "50%        0.250000      0.250000      0.250000             0.250000   \n",
       "75%        1.000000      1.000000      1.000000             1.000000   \n",
       "max        1.000000      1.000000      1.000000             1.000000   \n",
       "\n",
       "                0.4           0.5  0.6000000000000001  0.7000000000000001  \\\n",
       "count  10207.000000  10207.000000        10207.000000        10207.000000   \n",
       "mean       0.380771      0.403648            0.424565            0.400023   \n",
       "std        0.407577      0.427189            0.443333            0.424224   \n",
       "min        0.000000      0.000000            0.000000            0.000000   \n",
       "25%        0.000000      0.000000            0.000000            0.000000   \n",
       "50%        0.250000      0.250000            0.250000            0.250000   \n",
       "75%        1.000000      1.000000            1.000000            1.000000   \n",
       "max        1.000000      1.000000            1.000000            1.000000   \n",
       "\n",
       "                0.8           0.9           1.0  \n",
       "count  10207.000000  10207.000000  10207.000000  \n",
       "mean       0.370778      0.349322      0.343297  \n",
       "std        0.398295      0.376701      0.370188  \n",
       "min        0.000000      0.000000      0.000000  \n",
       "25%        0.000000      0.000000      0.000000  \n",
       "50%        0.250000      0.250000      0.250000  \n",
       "75%        0.500000      0.500000      0.500000  \n",
       "max        1.000000      1.000000      1.000000  "
      ]
     },
     "execution_count": 32,
     "metadata": {},
     "output_type": "execute_result"
    }
   ],
   "source": [
    "print(\"Best threshold\", best_th)\n",
    "print(\"Best cv\", best_cv)\n",
    "val_targets_df.describe()"
   ]
  },
  {
   "cell_type": "code",
   "execution_count": 33,
   "id": "e3a4f5d0",
   "metadata": {
    "execution": {
     "iopub.execute_input": "2022-02-23T06:08:26.053229Z",
     "iopub.status.busy": "2022-02-23T06:08:26.050444Z",
     "iopub.status.idle": "2022-02-23T06:08:26.071676Z",
     "shell.execute_reply": "2022-02-23T06:08:26.072436Z",
     "shell.execute_reply.started": "2022-02-23T05:00:55.414153Z"
    },
    "papermill": {
     "duration": 1.141901,
     "end_time": "2022-02-23T06:08:26.072617",
     "exception": false,
     "start_time": "2022-02-23T06:08:24.930716",
     "status": "completed"
    },
    "tags": []
   },
   "outputs": [
    {
     "name": "stdout",
     "output_type": "stream",
     "text": [
      "{False: 8357, True: 1850}\n",
      "best_threshold 0.5\n"
     ]
    },
    {
     "data": {
      "text/html": [
       "<div>\n",
       "<style scoped>\n",
       "    .dataframe tbody tr th:only-of-type {\n",
       "        vertical-align: middle;\n",
       "    }\n",
       "\n",
       "    .dataframe tbody tr th {\n",
       "        vertical-align: top;\n",
       "    }\n",
       "\n",
       "    .dataframe thead th {\n",
       "        text-align: right;\n",
       "    }\n",
       "</style>\n",
       "<table border=\"1\" class=\"dataframe\">\n",
       "  <thead>\n",
       "    <tr style=\"text-align: right;\">\n",
       "      <th>is_new_individual</th>\n",
       "      <th>False</th>\n",
       "      <th>True</th>\n",
       "      <th>adjusted_cv</th>\n",
       "    </tr>\n",
       "  </thead>\n",
       "  <tbody>\n",
       "    <tr>\n",
       "      <th>0.0</th>\n",
       "      <td>0.353001</td>\n",
       "      <td>0.500000</td>\n",
       "      <td>0.367701</td>\n",
       "    </tr>\n",
       "    <tr>\n",
       "      <th>0.1</th>\n",
       "      <td>0.353001</td>\n",
       "      <td>0.500000</td>\n",
       "      <td>0.367701</td>\n",
       "    </tr>\n",
       "    <tr>\n",
       "      <th>0.2</th>\n",
       "      <td>0.353001</td>\n",
       "      <td>0.500000</td>\n",
       "      <td>0.367701</td>\n",
       "    </tr>\n",
       "    <tr>\n",
       "      <th>0.30000000000000004</th>\n",
       "      <td>0.353001</td>\n",
       "      <td>0.500000</td>\n",
       "      <td>0.367701</td>\n",
       "    </tr>\n",
       "    <tr>\n",
       "      <th>0.4</th>\n",
       "      <td>0.352642</td>\n",
       "      <td>0.507838</td>\n",
       "      <td>0.368162</td>\n",
       "    </tr>\n",
       "    <tr>\n",
       "      <th>0.5</th>\n",
       "      <td>0.346779</td>\n",
       "      <td>0.660541</td>\n",
       "      <td>0.378155</td>\n",
       "    </tr>\n",
       "    <tr>\n",
       "      <th>0.6000000000000001</th>\n",
       "      <td>0.316924</td>\n",
       "      <td>0.910811</td>\n",
       "      <td>0.376313</td>\n",
       "    </tr>\n",
       "    <tr>\n",
       "      <th>0.7000000000000001</th>\n",
       "      <td>0.269658</td>\n",
       "      <td>0.988919</td>\n",
       "      <td>0.341584</td>\n",
       "    </tr>\n",
       "    <tr>\n",
       "      <th>0.8</th>\n",
       "      <td>0.231546</td>\n",
       "      <td>0.999730</td>\n",
       "      <td>0.308365</td>\n",
       "    </tr>\n",
       "    <tr>\n",
       "      <th>0.9</th>\n",
       "      <td>0.205341</td>\n",
       "      <td>0.999730</td>\n",
       "      <td>0.284780</td>\n",
       "    </tr>\n",
       "    <tr>\n",
       "      <th>1.0</th>\n",
       "      <td>0.197922</td>\n",
       "      <td>1.000000</td>\n",
       "      <td>0.278130</td>\n",
       "    </tr>\n",
       "  </tbody>\n",
       "</table>\n",
       "</div>"
      ],
      "text/plain": [
       "is_new_individual       False      True  adjusted_cv\n",
       "0.0                  0.353001  0.500000     0.367701\n",
       "0.1                  0.353001  0.500000     0.367701\n",
       "0.2                  0.353001  0.500000     0.367701\n",
       "0.30000000000000004  0.353001  0.500000     0.367701\n",
       "0.4                  0.352642  0.507838     0.368162\n",
       "0.5                  0.346779  0.660541     0.378155\n",
       "0.6000000000000001   0.316924  0.910811     0.376313\n",
       "0.7000000000000001   0.269658  0.988919     0.341584\n",
       "0.8                  0.231546  0.999730     0.308365\n",
       "0.9                  0.205341  0.999730     0.284780\n",
       "1.0                  0.197922  1.000000     0.278130"
      ]
     },
     "execution_count": 33,
     "metadata": {},
     "output_type": "execute_result"
    }
   ],
   "source": [
    "## Adjustment: Since Public lb has nearly 10% 'new_individual' (Be Careful for private LB)\n",
    "val_targets_df['is_new_individual'] = val_targets_df.target=='new_individual'\n",
    "print(val_targets_df.is_new_individual.value_counts().to_dict())\n",
    "val_scores = val_targets_df.groupby('is_new_individual').mean().T\n",
    "val_scores['adjusted_cv'] = val_scores[True]*0.1+val_scores[False]*0.9\n",
    "best_threshold_adjusted = val_scores['adjusted_cv'].idxmax()\n",
    "print(\"best_threshold\",best_threshold_adjusted)\n",
    "val_scores"
   ]
  },
  {
   "cell_type": "markdown",
   "id": "95ea07b3",
   "metadata": {
    "papermill": {
     "duration": 1.097335,
     "end_time": "2022-02-23T06:08:28.511311",
     "exception": false,
     "start_time": "2022-02-23T06:08:27.413976",
     "status": "completed"
    },
    "tags": []
   },
   "source": [
    "# <span><h1 style = \"font-family: garamond; font-size: 40px; font-style: normal; letter-spcaing: 3px; background-color: #f6f5f5; color :#fe346e; border-radius: 100px 100px; text-align:center\">Inference</h1></span>"
   ]
  },
  {
   "cell_type": "code",
   "execution_count": 34,
   "id": "b8da6e2d",
   "metadata": {
    "execution": {
     "iopub.execute_input": "2022-02-23T06:08:30.698550Z",
     "iopub.status.busy": "2022-02-23T06:08:30.697347Z",
     "iopub.status.idle": "2022-02-23T06:08:30.738813Z",
     "shell.execute_reply": "2022-02-23T06:08:30.739504Z",
     "shell.execute_reply.started": "2022-02-23T05:00:55.684185Z"
    },
    "papermill": {
     "duration": 1.115278,
     "end_time": "2022-02-23T06:08:30.739714",
     "exception": false,
     "start_time": "2022-02-23T06:08:29.624436",
     "status": "completed"
    },
    "tags": []
   },
   "outputs": [
    {
     "name": "stdout",
     "output_type": "stream",
     "text": [
      "(51033, 512) (51033,)\n"
     ]
    }
   ],
   "source": [
    "train_embeds = np.concatenate([train_embeds, valid_embeds])\n",
    "train_labels = np.concatenate([train_labels, valid_labels])\n",
    "print(train_embeds.shape,train_labels.shape)"
   ]
  },
  {
   "cell_type": "code",
   "execution_count": 35,
   "id": "380db947",
   "metadata": {
    "execution": {
     "iopub.execute_input": "2022-02-23T06:08:32.905316Z",
     "iopub.status.busy": "2022-02-23T06:08:32.904136Z",
     "iopub.status.idle": "2022-02-23T06:08:32.988956Z",
     "shell.execute_reply": "2022-02-23T06:08:32.988421Z",
     "shell.execute_reply.started": "2022-02-23T05:00:55.686082Z"
    },
    "papermill": {
     "duration": 1.176321,
     "end_time": "2022-02-23T06:08:32.989099",
     "exception": false,
     "start_time": "2022-02-23T06:08:31.812778",
     "status": "completed"
    },
    "tags": []
   },
   "outputs": [],
   "source": [
    "index = faiss.IndexFlatIP(CONFIG['embedding_size'])\n",
    "index.add(train_embeds)"
   ]
  },
  {
   "cell_type": "code",
   "execution_count": 36,
   "id": "44ccb1bf",
   "metadata": {
    "execution": {
     "iopub.execute_input": "2022-02-23T06:08:35.138568Z",
     "iopub.status.busy": "2022-02-23T06:08:35.137853Z",
     "iopub.status.idle": "2022-02-23T06:08:35.861355Z",
     "shell.execute_reply": "2022-02-23T06:08:35.861768Z",
     "shell.execute_reply.started": "2022-02-23T05:00:55.687875Z"
    },
    "papermill": {
     "duration": 1.795568,
     "end_time": "2022-02-23T06:08:35.861922",
     "exception": false,
     "start_time": "2022-02-23T06:08:34.066354",
     "status": "completed"
    },
    "tags": []
   },
   "outputs": [
    {
     "data": {
      "text/html": [
       "<div>\n",
       "<style scoped>\n",
       "    .dataframe tbody tr th:only-of-type {\n",
       "        vertical-align: middle;\n",
       "    }\n",
       "\n",
       "    .dataframe tbody tr th {\n",
       "        vertical-align: top;\n",
       "    }\n",
       "\n",
       "    .dataframe thead th {\n",
       "        text-align: right;\n",
       "    }\n",
       "</style>\n",
       "<table border=\"1\" class=\"dataframe\">\n",
       "  <thead>\n",
       "    <tr style=\"text-align: right;\">\n",
       "      <th></th>\n",
       "      <th>image</th>\n",
       "      <th>file_path</th>\n",
       "      <th>individual_id</th>\n",
       "    </tr>\n",
       "  </thead>\n",
       "  <tbody>\n",
       "    <tr>\n",
       "      <th>0</th>\n",
       "      <td>cd50701ae53ed8.jpg</td>\n",
       "      <td>../input/happy-whale-and-dolphin/test_images/c...</td>\n",
       "      <td>-1</td>\n",
       "    </tr>\n",
       "    <tr>\n",
       "      <th>1</th>\n",
       "      <td>177269f927ed34.jpg</td>\n",
       "      <td>../input/happy-whale-and-dolphin/test_images/1...</td>\n",
       "      <td>-1</td>\n",
       "    </tr>\n",
       "    <tr>\n",
       "      <th>2</th>\n",
       "      <td>9137934396d804.jpg</td>\n",
       "      <td>../input/happy-whale-and-dolphin/test_images/9...</td>\n",
       "      <td>-1</td>\n",
       "    </tr>\n",
       "    <tr>\n",
       "      <th>3</th>\n",
       "      <td>c28365a55a0dfe.jpg</td>\n",
       "      <td>../input/happy-whale-and-dolphin/test_images/c...</td>\n",
       "      <td>-1</td>\n",
       "    </tr>\n",
       "    <tr>\n",
       "      <th>4</th>\n",
       "      <td>1a40b7b382923a.jpg</td>\n",
       "      <td>../input/happy-whale-and-dolphin/test_images/1...</td>\n",
       "      <td>-1</td>\n",
       "    </tr>\n",
       "  </tbody>\n",
       "</table>\n",
       "</div>"
      ],
      "text/plain": [
       "                image                                          file_path  \\\n",
       "0  cd50701ae53ed8.jpg  ../input/happy-whale-and-dolphin/test_images/c...   \n",
       "1  177269f927ed34.jpg  ../input/happy-whale-and-dolphin/test_images/1...   \n",
       "2  9137934396d804.jpg  ../input/happy-whale-and-dolphin/test_images/9...   \n",
       "3  c28365a55a0dfe.jpg  ../input/happy-whale-and-dolphin/test_images/c...   \n",
       "4  1a40b7b382923a.jpg  ../input/happy-whale-and-dolphin/test_images/1...   \n",
       "\n",
       "   individual_id  \n",
       "0             -1  \n",
       "1             -1  \n",
       "2             -1  \n",
       "3             -1  \n",
       "4             -1  "
      ]
     },
     "execution_count": 36,
     "metadata": {},
     "output_type": "execute_result"
    }
   ],
   "source": [
    "test = pd.DataFrame()\n",
    "test[\"image\"] = os.listdir(\"../input/happy-whale-and-dolphin/test_images\")\n",
    "test[\"file_path\"] = test[\"image\"].apply(lambda x: f\"{TEST_DIR}/{x}\")\n",
    "test[\"individual_id\"] = -1  #dummy value\n",
    "test.head()"
   ]
  },
  {
   "cell_type": "code",
   "execution_count": 37,
   "id": "9d8dc4e6",
   "metadata": {
    "execution": {
     "iopub.execute_input": "2022-02-23T06:08:38.261998Z",
     "iopub.status.busy": "2022-02-23T06:08:38.261109Z",
     "iopub.status.idle": "2022-02-23T06:08:38.263692Z",
     "shell.execute_reply": "2022-02-23T06:08:38.263212Z",
     "shell.execute_reply.started": "2022-02-23T05:00:55.689679Z"
    },
    "papermill": {
     "duration": 1.335904,
     "end_time": "2022-02-23T06:08:38.263825",
     "exception": false,
     "start_time": "2022-02-23T06:08:36.927921",
     "status": "completed"
    },
    "tags": []
   },
   "outputs": [],
   "source": [
    "test_dataset = HappyWhaleDataset(test, transforms=data_transforms[\"valid\"])\n",
    "test_loader = DataLoader(test_dataset, batch_size=CONFIG['valid_batch_size'], \n",
    "                         num_workers=2, shuffle=False, pin_memory=True)"
   ]
  },
  {
   "cell_type": "code",
   "execution_count": 38,
   "id": "531753e5",
   "metadata": {
    "execution": {
     "iopub.execute_input": "2022-02-23T06:08:40.403057Z",
     "iopub.status.busy": "2022-02-23T06:08:40.402192Z",
     "iopub.status.idle": "2022-02-23T06:38:20.356323Z",
     "shell.execute_reply": "2022-02-23T06:38:20.356970Z",
     "shell.execute_reply.started": "2022-02-23T05:00:55.691453Z"
    },
    "papermill": {
     "duration": 1781.02338,
     "end_time": "2022-02-23T06:38:20.357169",
     "exception": false,
     "start_time": "2022-02-23T06:08:39.333789",
     "status": "completed"
    },
    "tags": []
   },
   "outputs": [
    {
     "name": "stderr",
     "output_type": "stream",
     "text": [
      "100%|██████████| 437/437 [29:39<00:00,  4.07s/it]\n"
     ]
    }
   ],
   "source": [
    "test_embeds, _, test_ids = get_embeddings(model, test_loader, CONFIG['device'])\n",
    "test_embeds = normalize(test_embeds, axis=1, norm='l2')"
   ]
  },
  {
   "cell_type": "code",
   "execution_count": 39,
   "id": "cda5c9bf",
   "metadata": {
    "execution": {
     "iopub.execute_input": "2022-02-23T06:38:22.857668Z",
     "iopub.status.busy": "2022-02-23T06:38:22.857078Z",
     "iopub.status.idle": "2022-02-23T06:38:34.317921Z",
     "shell.execute_reply": "2022-02-23T06:38:34.317372Z",
     "shell.execute_reply.started": "2022-02-23T05:00:55.693237Z"
    },
    "papermill": {
     "duration": 12.666371,
     "end_time": "2022-02-23T06:38:34.318069",
     "exception": false,
     "start_time": "2022-02-23T06:38:21.651698",
     "status": "completed"
    },
    "tags": []
   },
   "outputs": [],
   "source": [
    "D, I = index.search(test_embeds, k=50)"
   ]
  },
  {
   "cell_type": "code",
   "execution_count": 40,
   "id": "c0fe102b",
   "metadata": {
    "execution": {
     "iopub.execute_input": "2022-02-23T06:38:36.744476Z",
     "iopub.status.busy": "2022-02-23T06:38:36.743866Z",
     "iopub.status.idle": "2022-02-23T06:40:41.457882Z",
     "shell.execute_reply": "2022-02-23T06:40:41.457334Z",
     "shell.execute_reply.started": "2022-02-23T05:00:55.695055Z"
    },
    "papermill": {
     "duration": 125.930583,
     "end_time": "2022-02-23T06:40:41.458037",
     "exception": false,
     "start_time": "2022-02-23T06:38:35.527454",
     "status": "completed"
    },
    "tags": []
   },
   "outputs": [
    {
     "name": "stderr",
     "output_type": "stream",
     "text": [
      "27956it [00:21, 1329.71it/s]\n"
     ]
    }
   ],
   "source": [
    "test_df = []\n",
    "for i, test_id in tqdm(enumerate(test_ids)):\n",
    "    targets = train_labels[I[i]]\n",
    "    distances = D[i]\n",
    "    subset_preds = pd.DataFrame(np.stack([targets, distances], axis=1), columns=['target','distances'])\n",
    "    subset_preds['image'] = test_id\n",
    "    test_df.append(subset_preds)\n",
    "    \n",
    "test_df = pd.concat(test_df).reset_index(drop=True)\n",
    "test_df = test_df.groupby(['image','target']).distances.max().reset_index()\n",
    "test_df = test_df.sort_values('distances', ascending=False).reset_index(drop=True)\n",
    "test_df.to_csv('test_neighbors.csv')"
   ]
  },
  {
   "cell_type": "code",
   "execution_count": 41,
   "id": "a44903ec",
   "metadata": {
    "execution": {
     "iopub.execute_input": "2022-02-23T06:40:44.376780Z",
     "iopub.status.busy": "2022-02-23T06:40:44.376015Z",
     "iopub.status.idle": "2022-02-23T06:41:46.904205Z",
     "shell.execute_reply": "2022-02-23T06:41:46.903652Z",
     "shell.execute_reply.started": "2022-02-23T05:00:55.696838Z"
    },
    "papermill": {
     "duration": 63.927849,
     "end_time": "2022-02-23T06:41:46.904351",
     "exception": false,
     "start_time": "2022-02-23T06:40:42.976502",
     "status": "completed"
    },
    "tags": []
   },
   "outputs": [
    {
     "name": "stderr",
     "output_type": "stream",
     "text": [
      "1007274it [01:02, 16168.20it/s]\n",
      "100%|██████████| 27956/27956 [00:00<00:00, 1129894.80it/s]\n"
     ]
    },
    {
     "data": {
      "text/html": [
       "<div>\n",
       "<style scoped>\n",
       "    .dataframe tbody tr th:only-of-type {\n",
       "        vertical-align: middle;\n",
       "    }\n",
       "\n",
       "    .dataframe tbody tr th {\n",
       "        vertical-align: top;\n",
       "    }\n",
       "\n",
       "    .dataframe thead th {\n",
       "        text-align: right;\n",
       "    }\n",
       "</style>\n",
       "<table border=\"1\" class=\"dataframe\">\n",
       "  <thead>\n",
       "    <tr style=\"text-align: right;\">\n",
       "      <th></th>\n",
       "      <th>image</th>\n",
       "      <th>predictions</th>\n",
       "    </tr>\n",
       "  </thead>\n",
       "  <tbody>\n",
       "    <tr>\n",
       "      <th>0</th>\n",
       "      <td>5c9e04a6e6a9a2.jpg</td>\n",
       "      <td>547afd43d437 new_individual c295e46e85d8 9a3ee...</td>\n",
       "    </tr>\n",
       "    <tr>\n",
       "      <th>1</th>\n",
       "      <td>a3a9c424ef9f06.jpg</td>\n",
       "      <td>0ed88187dcb5 new_individual e44e4b2ceed9 3acf1...</td>\n",
       "    </tr>\n",
       "    <tr>\n",
       "      <th>2</th>\n",
       "      <td>dd806b5d0f42e1.jpg</td>\n",
       "      <td>13e453fd9598 new_individual 06b287d73a9f da961...</td>\n",
       "    </tr>\n",
       "    <tr>\n",
       "      <th>3</th>\n",
       "      <td>50df0a954eb94c.jpg</td>\n",
       "      <td>713eb1a00c3d new_individual f664abace56d 7a36f...</td>\n",
       "    </tr>\n",
       "    <tr>\n",
       "      <th>4</th>\n",
       "      <td>3c52966f74d2ad.jpg</td>\n",
       "      <td>978520860ceb new_individual c85db2d6613b 4c05c...</td>\n",
       "    </tr>\n",
       "  </tbody>\n",
       "</table>\n",
       "</div>"
      ],
      "text/plain": [
       "                image                                        predictions\n",
       "0  5c9e04a6e6a9a2.jpg  547afd43d437 new_individual c295e46e85d8 9a3ee...\n",
       "1  a3a9c424ef9f06.jpg  0ed88187dcb5 new_individual e44e4b2ceed9 3acf1...\n",
       "2  dd806b5d0f42e1.jpg  13e453fd9598 new_individual 06b287d73a9f da961...\n",
       "3  50df0a954eb94c.jpg  713eb1a00c3d new_individual f664abace56d 7a36f...\n",
       "4  3c52966f74d2ad.jpg  978520860ceb new_individual c85db2d6613b 4c05c..."
      ]
     },
     "execution_count": 41,
     "metadata": {},
     "output_type": "execute_result"
    }
   ],
   "source": [
    "predictions = get_predictions(test_df, best_threshold_adjusted)\n",
    "\n",
    "predictions = pd.Series(predictions).reset_index()\n",
    "predictions.columns = ['image','predictions']\n",
    "predictions['predictions'] = predictions['predictions'].apply(lambda x: ' '.join(x))\n",
    "predictions.to_csv('submission.csv',index=False)\n",
    "predictions.head()"
   ]
  }
 ],
 "metadata": {
  "kernelspec": {
   "display_name": "Python 3",
   "language": "python",
   "name": "python3"
  },
  "language_info": {
   "codemirror_mode": {
    "name": "ipython",
    "version": 3
   },
   "file_extension": ".py",
   "mimetype": "text/x-python",
   "name": "python",
   "nbconvert_exporter": "python",
   "pygments_lexer": "ipython3",
   "version": "3.11.0"
  },
  "papermill": {
   "default_parameters": {},
   "duration": 5600.769643,
   "end_time": "2022-02-23T06:41:50.944700",
   "environment_variables": {},
   "exception": null,
   "input_path": "__notebook__.ipynb",
   "output_path": "__notebook__.ipynb",
   "parameters": {},
   "start_time": "2022-02-23T05:08:30.175057",
   "version": "2.3.3"
  }
 },
 "nbformat": 4,
 "nbformat_minor": 5
}
